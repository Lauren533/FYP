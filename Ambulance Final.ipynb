{
 "cells": [
  {
   "cell_type": "code",
   "execution_count": 1,
   "metadata": {},
   "outputs": [],
   "source": [
    "import pandas as pd \n",
    "import numpy as np\n",
    "import datetime\n",
    "from dateutil.relativedelta import relativedelta\n",
    "from datetime import date"
   ]
  },
  {
   "cell_type": "code",
   "execution_count": 2,
   "metadata": {},
   "outputs": [],
   "source": [
    "DF=pd.read_csv('ambulance.csv')"
   ]
  },
  {
   "cell_type": "code",
   "execution_count": 3,
   "metadata": {},
   "outputs": [
    {
     "data": {
      "text/html": [
       "<div>\n",
       "<style scoped>\n",
       "    .dataframe tbody tr th:only-of-type {\n",
       "        vertical-align: middle;\n",
       "    }\n",
       "\n",
       "    .dataframe tbody tr th {\n",
       "        vertical-align: top;\n",
       "    }\n",
       "\n",
       "    .dataframe thead th {\n",
       "        text-align: right;\n",
       "    }\n",
       "</style>\n",
       "<table border=\"1\" class=\"dataframe\">\n",
       "  <thead>\n",
       "    <tr style=\"text-align: right;\">\n",
       "      <th></th>\n",
       "      <th>Date</th>\n",
       "      <th>Station Area</th>\n",
       "      <th>Clinical Status</th>\n",
       "      <th>TOC</th>\n",
       "      <th>ORD</th>\n",
       "      <th>MOB</th>\n",
       "      <th>IA</th>\n",
       "      <th>LS</th>\n",
       "      <th>AH</th>\n",
       "      <th>MAV</th>\n",
       "      <th>CD</th>\n",
       "    </tr>\n",
       "  </thead>\n",
       "  <tbody>\n",
       "    <tr>\n",
       "      <th>0</th>\n",
       "      <td>01/01/2013</td>\n",
       "      <td>Tallaght</td>\n",
       "      <td>Non ProQa Class</td>\n",
       "      <td>00:02:09</td>\n",
       "      <td>00:04:14</td>\n",
       "      <td>00:04:58</td>\n",
       "      <td>00:10:16</td>\n",
       "      <td>NaN</td>\n",
       "      <td>NaN</td>\n",
       "      <td>00:27:47</td>\n",
       "      <td>00:29:24</td>\n",
       "    </tr>\n",
       "    <tr>\n",
       "      <th>1</th>\n",
       "      <td>01/01/2013</td>\n",
       "      <td>Tara St</td>\n",
       "      <td>Bravo</td>\n",
       "      <td>00:02:41</td>\n",
       "      <td>00:14:41</td>\n",
       "      <td>00:15:04</td>\n",
       "      <td>00:18:10</td>\n",
       "      <td>NaN</td>\n",
       "      <td>NaN</td>\n",
       "      <td>00:20:52</td>\n",
       "      <td>00:22:47</td>\n",
       "    </tr>\n",
       "    <tr>\n",
       "      <th>2</th>\n",
       "      <td>01/01/2013</td>\n",
       "      <td>Finglas</td>\n",
       "      <td>Delta</td>\n",
       "      <td>00:13:52</td>\n",
       "      <td>00:16:26</td>\n",
       "      <td>00:16:51</td>\n",
       "      <td>00:25:06</td>\n",
       "      <td>00:29:36</td>\n",
       "      <td>00:37:35</td>\n",
       "      <td>00:41:49</td>\n",
       "      <td>00:47:15</td>\n",
       "    </tr>\n",
       "    <tr>\n",
       "      <th>3</th>\n",
       "      <td>01/01/2013</td>\n",
       "      <td>Tara St</td>\n",
       "      <td>Bravo</td>\n",
       "      <td>00:06:58</td>\n",
       "      <td>00:22:33</td>\n",
       "      <td>00:22:59</td>\n",
       "      <td>00:34:48</td>\n",
       "      <td>NaN</td>\n",
       "      <td>NaN</td>\n",
       "      <td>00:43:21</td>\n",
       "      <td>00:44:18</td>\n",
       "    </tr>\n",
       "    <tr>\n",
       "      <th>4</th>\n",
       "      <td>01/01/2013</td>\n",
       "      <td>Tara St</td>\n",
       "      <td>Alpha</td>\n",
       "      <td>00:14:56</td>\n",
       "      <td>00:23:25</td>\n",
       "      <td>00:23:35</td>\n",
       "      <td>00:27:25</td>\n",
       "      <td>00:39:19</td>\n",
       "      <td>NaN</td>\n",
       "      <td>01:05:37</td>\n",
       "      <td>01:12:15</td>\n",
       "    </tr>\n",
       "  </tbody>\n",
       "</table>\n",
       "</div>"
      ],
      "text/plain": [
       "         Date Station Area  Clinical Status       TOC       ORD       MOB  \\\n",
       "0  01/01/2013     Tallaght  Non ProQa Class  00:02:09  00:04:14  00:04:58   \n",
       "1  01/01/2013      Tara St            Bravo  00:02:41  00:14:41  00:15:04   \n",
       "2  01/01/2013      Finglas            Delta  00:13:52  00:16:26  00:16:51   \n",
       "3  01/01/2013      Tara St            Bravo  00:06:58  00:22:33  00:22:59   \n",
       "4  01/01/2013      Tara St            Alpha  00:14:56  00:23:25  00:23:35   \n",
       "\n",
       "         IA        LS        AH       MAV        CD  \n",
       "0  00:10:16       NaN       NaN  00:27:47  00:29:24  \n",
       "1  00:18:10       NaN       NaN  00:20:52  00:22:47  \n",
       "2  00:25:06  00:29:36  00:37:35  00:41:49  00:47:15  \n",
       "3  00:34:48       NaN       NaN  00:43:21  00:44:18  \n",
       "4  00:27:25  00:39:19       NaN  01:05:37  01:12:15  "
      ]
     },
     "execution_count": 3,
     "metadata": {},
     "output_type": "execute_result"
    }
   ],
   "source": [
    "DF.head()"
   ]
  },
  {
   "cell_type": "markdown",
   "metadata": {},
   "source": [
    "## Cleaning Data"
   ]
  },
  {
   "cell_type": "code",
   "execution_count": 4,
   "metadata": {},
   "outputs": [
    {
     "data": {
      "text/html": [
       "<div>\n",
       "<style scoped>\n",
       "    .dataframe tbody tr th:only-of-type {\n",
       "        vertical-align: middle;\n",
       "    }\n",
       "\n",
       "    .dataframe tbody tr th {\n",
       "        vertical-align: top;\n",
       "    }\n",
       "\n",
       "    .dataframe thead th {\n",
       "        text-align: right;\n",
       "    }\n",
       "</style>\n",
       "<table border=\"1\" class=\"dataframe\">\n",
       "  <thead>\n",
       "    <tr style=\"text-align: right;\">\n",
       "      <th></th>\n",
       "      <th>Date</th>\n",
       "      <th>Station Area</th>\n",
       "      <th>Clinical Status</th>\n",
       "      <th>TOC</th>\n",
       "      <th>IA</th>\n",
       "    </tr>\n",
       "  </thead>\n",
       "  <tbody>\n",
       "    <tr>\n",
       "      <th>0</th>\n",
       "      <td>01/01/2013</td>\n",
       "      <td>Tallaght</td>\n",
       "      <td>Non ProQa Class</td>\n",
       "      <td>00:02:09</td>\n",
       "      <td>00:10:16</td>\n",
       "    </tr>\n",
       "    <tr>\n",
       "      <th>1</th>\n",
       "      <td>01/01/2013</td>\n",
       "      <td>Tara St</td>\n",
       "      <td>Bravo</td>\n",
       "      <td>00:02:41</td>\n",
       "      <td>00:18:10</td>\n",
       "    </tr>\n",
       "    <tr>\n",
       "      <th>2</th>\n",
       "      <td>01/01/2013</td>\n",
       "      <td>Finglas</td>\n",
       "      <td>Delta</td>\n",
       "      <td>00:13:52</td>\n",
       "      <td>00:25:06</td>\n",
       "    </tr>\n",
       "    <tr>\n",
       "      <th>3</th>\n",
       "      <td>01/01/2013</td>\n",
       "      <td>Tara St</td>\n",
       "      <td>Bravo</td>\n",
       "      <td>00:06:58</td>\n",
       "      <td>00:34:48</td>\n",
       "    </tr>\n",
       "    <tr>\n",
       "      <th>4</th>\n",
       "      <td>01/01/2013</td>\n",
       "      <td>Tara St</td>\n",
       "      <td>Alpha</td>\n",
       "      <td>00:14:56</td>\n",
       "      <td>00:27:25</td>\n",
       "    </tr>\n",
       "  </tbody>\n",
       "</table>\n",
       "</div>"
      ],
      "text/plain": [
       "         Date Station Area  Clinical Status       TOC        IA\n",
       "0  01/01/2013     Tallaght  Non ProQa Class  00:02:09  00:10:16\n",
       "1  01/01/2013      Tara St            Bravo  00:02:41  00:18:10\n",
       "2  01/01/2013      Finglas            Delta  00:13:52  00:25:06\n",
       "3  01/01/2013      Tara St            Bravo  00:06:58  00:34:48\n",
       "4  01/01/2013      Tara St            Alpha  00:14:56  00:27:25"
      ]
     },
     "execution_count": 4,
     "metadata": {},
     "output_type": "execute_result"
    }
   ],
   "source": [
    "DF=DF[['Date','Station Area','Clinical Status','TOC','IA']]\n",
    "DF.head()"
   ]
  },
  {
   "cell_type": "code",
   "execution_count": 5,
   "metadata": {},
   "outputs": [
    {
     "data": {
      "text/plain": [
       "(220828, 5)"
      ]
     },
     "execution_count": 5,
     "metadata": {},
     "output_type": "execute_result"
    }
   ],
   "source": [
    "DF.shape"
   ]
  },
  {
   "cell_type": "code",
   "execution_count": 6,
   "metadata": {},
   "outputs": [
    {
     "data": {
      "text/plain": [
       "Date                   0\n",
       "Station Area           0\n",
       "Clinical Status        0\n",
       "TOC                    0\n",
       "IA                 35352\n",
       "dtype: int64"
      ]
     },
     "execution_count": 6,
     "metadata": {},
     "output_type": "execute_result"
    }
   ],
   "source": [
    "DF.isnull().sum(axis = 0)"
   ]
  },
  {
   "cell_type": "code",
   "execution_count": 7,
   "metadata": {},
   "outputs": [
    {
     "data": {
      "text/plain": [
       "Date               0\n",
       "Station Area       0\n",
       "Clinical Status    0\n",
       "TOC                0\n",
       "IA                 0\n",
       "dtype: int64"
      ]
     },
     "execution_count": 7,
     "metadata": {},
     "output_type": "execute_result"
    }
   ],
   "source": [
    "DF = DF.dropna(axis=0, subset=['IA'])\n",
    "DF.isnull().sum(axis = 0)"
   ]
  },
  {
   "cell_type": "code",
   "execution_count": 8,
   "metadata": {},
   "outputs": [
    {
     "data": {
      "text/html": [
       "<div>\n",
       "<style scoped>\n",
       "    .dataframe tbody tr th:only-of-type {\n",
       "        vertical-align: middle;\n",
       "    }\n",
       "\n",
       "    .dataframe tbody tr th {\n",
       "        vertical-align: top;\n",
       "    }\n",
       "\n",
       "    .dataframe thead th {\n",
       "        text-align: right;\n",
       "    }\n",
       "</style>\n",
       "<table border=\"1\" class=\"dataframe\">\n",
       "  <thead>\n",
       "    <tr style=\"text-align: right;\">\n",
       "      <th></th>\n",
       "      <th>Date</th>\n",
       "      <th>Station Area</th>\n",
       "      <th>Clinical Status</th>\n",
       "      <th>TOC</th>\n",
       "      <th>IA</th>\n",
       "    </tr>\n",
       "  </thead>\n",
       "  <tbody>\n",
       "    <tr>\n",
       "      <th>0</th>\n",
       "      <td>01/01/2013</td>\n",
       "      <td>Tallaght</td>\n",
       "      <td>Non ProQa Class</td>\n",
       "      <td>2013-01-01 00:02:09</td>\n",
       "      <td>2013-01-01 00:10:16</td>\n",
       "    </tr>\n",
       "    <tr>\n",
       "      <th>1</th>\n",
       "      <td>01/01/2013</td>\n",
       "      <td>Tara St</td>\n",
       "      <td>Bravo</td>\n",
       "      <td>2013-01-01 00:02:41</td>\n",
       "      <td>2013-01-01 00:18:10</td>\n",
       "    </tr>\n",
       "    <tr>\n",
       "      <th>2</th>\n",
       "      <td>01/01/2013</td>\n",
       "      <td>Finglas</td>\n",
       "      <td>Delta</td>\n",
       "      <td>2013-01-01 00:13:52</td>\n",
       "      <td>2013-01-01 00:25:06</td>\n",
       "    </tr>\n",
       "    <tr>\n",
       "      <th>3</th>\n",
       "      <td>01/01/2013</td>\n",
       "      <td>Tara St</td>\n",
       "      <td>Bravo</td>\n",
       "      <td>2013-01-01 00:06:58</td>\n",
       "      <td>2013-01-01 00:34:48</td>\n",
       "    </tr>\n",
       "    <tr>\n",
       "      <th>4</th>\n",
       "      <td>01/01/2013</td>\n",
       "      <td>Tara St</td>\n",
       "      <td>Alpha</td>\n",
       "      <td>2013-01-01 00:14:56</td>\n",
       "      <td>2013-01-01 00:27:25</td>\n",
       "    </tr>\n",
       "  </tbody>\n",
       "</table>\n",
       "</div>"
      ],
      "text/plain": [
       "         Date Station Area  Clinical Status                 TOC  \\\n",
       "0  01/01/2013     Tallaght  Non ProQa Class 2013-01-01 00:02:09   \n",
       "1  01/01/2013      Tara St            Bravo 2013-01-01 00:02:41   \n",
       "2  01/01/2013      Finglas            Delta 2013-01-01 00:13:52   \n",
       "3  01/01/2013      Tara St            Bravo 2013-01-01 00:06:58   \n",
       "4  01/01/2013      Tara St            Alpha 2013-01-01 00:14:56   \n",
       "\n",
       "                   IA  \n",
       "0 2013-01-01 00:10:16  \n",
       "1 2013-01-01 00:18:10  \n",
       "2 2013-01-01 00:25:06  \n",
       "3 2013-01-01 00:34:48  \n",
       "4 2013-01-01 00:27:25  "
      ]
     },
     "execution_count": 8,
     "metadata": {},
     "output_type": "execute_result"
    }
   ],
   "source": [
    "DF.loc[:,'TOC'] = pd.to_datetime(DF.Date.astype(object)+' '+DF.TOC.astype(object))\n",
    "DF.loc[:,'IA'] = pd.to_datetime(DF.Date.astype(object)+' '+DF.IA.astype(object))\n",
    "DF.head()"
   ]
  },
  {
   "cell_type": "markdown",
   "metadata": {},
   "source": [
    "## Calculating Response Time"
   ]
  },
  {
   "cell_type": "code",
   "execution_count": 9,
   "metadata": {},
   "outputs": [
    {
     "data": {
      "text/html": [
       "<div>\n",
       "<style scoped>\n",
       "    .dataframe tbody tr th:only-of-type {\n",
       "        vertical-align: middle;\n",
       "    }\n",
       "\n",
       "    .dataframe tbody tr th {\n",
       "        vertical-align: top;\n",
       "    }\n",
       "\n",
       "    .dataframe thead th {\n",
       "        text-align: right;\n",
       "    }\n",
       "</style>\n",
       "<table border=\"1\" class=\"dataframe\">\n",
       "  <thead>\n",
       "    <tr style=\"text-align: right;\">\n",
       "      <th></th>\n",
       "      <th>Date</th>\n",
       "      <th>Station Area</th>\n",
       "      <th>Clinical Status</th>\n",
       "      <th>TOC</th>\n",
       "      <th>IA</th>\n",
       "      <th>Response Time</th>\n",
       "    </tr>\n",
       "  </thead>\n",
       "  <tbody>\n",
       "    <tr>\n",
       "      <th>0</th>\n",
       "      <td>01/01/2013</td>\n",
       "      <td>Tallaght</td>\n",
       "      <td>Non ProQa Class</td>\n",
       "      <td>2013-01-01 00:02:09</td>\n",
       "      <td>2013-01-01 00:10:16</td>\n",
       "      <td>487.0</td>\n",
       "    </tr>\n",
       "    <tr>\n",
       "      <th>1</th>\n",
       "      <td>01/01/2013</td>\n",
       "      <td>Tara St</td>\n",
       "      <td>Bravo</td>\n",
       "      <td>2013-01-01 00:02:41</td>\n",
       "      <td>2013-01-01 00:18:10</td>\n",
       "      <td>929.0</td>\n",
       "    </tr>\n",
       "    <tr>\n",
       "      <th>2</th>\n",
       "      <td>01/01/2013</td>\n",
       "      <td>Finglas</td>\n",
       "      <td>Delta</td>\n",
       "      <td>2013-01-01 00:13:52</td>\n",
       "      <td>2013-01-01 00:25:06</td>\n",
       "      <td>674.0</td>\n",
       "    </tr>\n",
       "    <tr>\n",
       "      <th>3</th>\n",
       "      <td>01/01/2013</td>\n",
       "      <td>Tara St</td>\n",
       "      <td>Bravo</td>\n",
       "      <td>2013-01-01 00:06:58</td>\n",
       "      <td>2013-01-01 00:34:48</td>\n",
       "      <td>1670.0</td>\n",
       "    </tr>\n",
       "    <tr>\n",
       "      <th>4</th>\n",
       "      <td>01/01/2013</td>\n",
       "      <td>Tara St</td>\n",
       "      <td>Alpha</td>\n",
       "      <td>2013-01-01 00:14:56</td>\n",
       "      <td>2013-01-01 00:27:25</td>\n",
       "      <td>749.0</td>\n",
       "    </tr>\n",
       "  </tbody>\n",
       "</table>\n",
       "</div>"
      ],
      "text/plain": [
       "         Date Station Area  Clinical Status                 TOC  \\\n",
       "0  01/01/2013     Tallaght  Non ProQa Class 2013-01-01 00:02:09   \n",
       "1  01/01/2013      Tara St            Bravo 2013-01-01 00:02:41   \n",
       "2  01/01/2013      Finglas            Delta 2013-01-01 00:13:52   \n",
       "3  01/01/2013      Tara St            Bravo 2013-01-01 00:06:58   \n",
       "4  01/01/2013      Tara St            Alpha 2013-01-01 00:14:56   \n",
       "\n",
       "                   IA  Response Time  \n",
       "0 2013-01-01 00:10:16          487.0  \n",
       "1 2013-01-01 00:18:10          929.0  \n",
       "2 2013-01-01 00:25:06          674.0  \n",
       "3 2013-01-01 00:34:48         1670.0  \n",
       "4 2013-01-01 00:27:25          749.0  "
      ]
     },
     "execution_count": 9,
     "metadata": {},
     "output_type": "execute_result"
    }
   ],
   "source": [
    "DF['Response Time'] = DF['IA'] - DF['TOC']\n",
    "DF['Response Time']=DF['Response Time']/np.timedelta64(1,'s')\n",
    " \n",
    "DF.head()"
   ]
  },
  {
   "cell_type": "code",
   "execution_count": 10,
   "metadata": {},
   "outputs": [
    {
     "name": "stderr",
     "output_type": "stream",
     "text": [
      "C:\\Users\\Lauren\\Anaconda3\\lib\\site-packages\\ipykernel_launcher.py:2: SettingWithCopyWarning: \n",
      "A value is trying to be set on a copy of a slice from a DataFrame\n",
      "\n",
      "See the caveats in the documentation: http://pandas.pydata.org/pandas-docs/stable/indexing.html#indexing-view-versus-copy\n",
      "  \n"
     ]
    }
   ],
   "source": [
    "mask = (DF['Response Time'] <0 )\n",
    "DF['TOC'][mask] = DF['TOC'] -pd.Timedelta('1 day')\n",
    "DF['Response Time'].mask(DF['Response Time'] < 0, 86400 +DF['Response Time'], inplace=True)"
   ]
  },
  {
   "cell_type": "code",
   "execution_count": 11,
   "metadata": {},
   "outputs": [
    {
     "data": {
      "text/plain": [
       "8"
      ]
     },
     "execution_count": 11,
     "metadata": {},
     "output_type": "execute_result"
    }
   ],
   "source": [
    "my_counter = len(DF[DF['Response Time'] > 21600])\n",
    "my_counter"
   ]
  },
  {
   "cell_type": "code",
   "execution_count": 12,
   "metadata": {},
   "outputs": [
    {
     "data": {
      "text/html": [
       "<div>\n",
       "<style scoped>\n",
       "    .dataframe tbody tr th:only-of-type {\n",
       "        vertical-align: middle;\n",
       "    }\n",
       "\n",
       "    .dataframe tbody tr th {\n",
       "        vertical-align: top;\n",
       "    }\n",
       "\n",
       "    .dataframe thead th {\n",
       "        text-align: right;\n",
       "    }\n",
       "</style>\n",
       "<table border=\"1\" class=\"dataframe\">\n",
       "  <thead>\n",
       "    <tr style=\"text-align: right;\">\n",
       "      <th></th>\n",
       "      <th>Date</th>\n",
       "      <th>Station Area</th>\n",
       "      <th>Clinical Status</th>\n",
       "      <th>TOC</th>\n",
       "      <th>IA</th>\n",
       "      <th>Response Time</th>\n",
       "    </tr>\n",
       "  </thead>\n",
       "  <tbody>\n",
       "    <tr>\n",
       "      <th>12552</th>\n",
       "      <td>05/03/2013</td>\n",
       "      <td>Tara St</td>\n",
       "      <td>Non ProQa Class</td>\n",
       "      <td>2013-05-02 20:10:58</td>\n",
       "      <td>2013-05-03 09:07:22</td>\n",
       "      <td>46584.0</td>\n",
       "    </tr>\n",
       "    <tr>\n",
       "      <th>59920</th>\n",
       "      <td>27/10/2013</td>\n",
       "      <td>Dolphins Barn</td>\n",
       "      <td>Omega</td>\n",
       "      <td>2013-10-26 01:49:07</td>\n",
       "      <td>2013-10-27 01:07:34</td>\n",
       "      <td>83907.0</td>\n",
       "    </tr>\n",
       "    <tr>\n",
       "      <th>131571</th>\n",
       "      <td>26/10/2014</td>\n",
       "      <td>Finglas</td>\n",
       "      <td>A</td>\n",
       "      <td>2014-10-25 01:41:30</td>\n",
       "      <td>2014-10-26 01:04:23</td>\n",
       "      <td>84173.0</td>\n",
       "    </tr>\n",
       "    <tr>\n",
       "      <th>150715</th>\n",
       "      <td>27/01/2015</td>\n",
       "      <td>Phibsborough</td>\n",
       "      <td>A</td>\n",
       "      <td>2015-01-26 20:04:15</td>\n",
       "      <td>2015-01-27 04:40:41</td>\n",
       "      <td>30986.0</td>\n",
       "    </tr>\n",
       "    <tr>\n",
       "      <th>152884</th>\n",
       "      <td>07/02/2015</td>\n",
       "      <td>Kilbarrack</td>\n",
       "      <td>D</td>\n",
       "      <td>2015-07-01 20:21:50</td>\n",
       "      <td>2015-07-02 05:37:46</td>\n",
       "      <td>33356.0</td>\n",
       "    </tr>\n",
       "    <tr>\n",
       "      <th>154158</th>\n",
       "      <td>14/02/2015</td>\n",
       "      <td>North Strand</td>\n",
       "      <td>B</td>\n",
       "      <td>2015-02-14 02:00:36</td>\n",
       "      <td>2015-02-14 08:46:22</td>\n",
       "      <td>24346.0</td>\n",
       "    </tr>\n",
       "    <tr>\n",
       "      <th>193384</th>\n",
       "      <td>26/08/2015</td>\n",
       "      <td>Dolphins Barn</td>\n",
       "      <td>D</td>\n",
       "      <td>2015-08-26 09:15:52</td>\n",
       "      <td>2015-08-26 23:52:00</td>\n",
       "      <td>52568.0</td>\n",
       "    </tr>\n",
       "    <tr>\n",
       "      <th>206049</th>\n",
       "      <td>25/10/2015</td>\n",
       "      <td>Swords</td>\n",
       "      <td>C</td>\n",
       "      <td>2015-10-24 01:38:57</td>\n",
       "      <td>2015-10-25 01:05:24</td>\n",
       "      <td>84387.0</td>\n",
       "    </tr>\n",
       "  </tbody>\n",
       "</table>\n",
       "</div>"
      ],
      "text/plain": [
       "              Date   Station Area  Clinical Status                 TOC  \\\n",
       "12552   05/03/2013        Tara St  Non ProQa Class 2013-05-02 20:10:58   \n",
       "59920   27/10/2013  Dolphins Barn            Omega 2013-10-26 01:49:07   \n",
       "131571  26/10/2014        Finglas                A 2014-10-25 01:41:30   \n",
       "150715  27/01/2015   Phibsborough                A 2015-01-26 20:04:15   \n",
       "152884  07/02/2015     Kilbarrack                D 2015-07-01 20:21:50   \n",
       "154158  14/02/2015   North Strand                B 2015-02-14 02:00:36   \n",
       "193384  26/08/2015  Dolphins Barn                D 2015-08-26 09:15:52   \n",
       "206049  25/10/2015         Swords                C 2015-10-24 01:38:57   \n",
       "\n",
       "                        IA  Response Time  \n",
       "12552  2013-05-03 09:07:22        46584.0  \n",
       "59920  2013-10-27 01:07:34        83907.0  \n",
       "131571 2014-10-26 01:04:23        84173.0  \n",
       "150715 2015-01-27 04:40:41        30986.0  \n",
       "152884 2015-07-02 05:37:46        33356.0  \n",
       "154158 2015-02-14 08:46:22        24346.0  \n",
       "193384 2015-08-26 23:52:00        52568.0  \n",
       "206049 2015-10-25 01:05:24        84387.0  "
      ]
     },
     "execution_count": 12,
     "metadata": {},
     "output_type": "execute_result"
    }
   ],
   "source": [
    "Unusual_data=DF[DF['Response Time'] > 21600]\n",
    "Unusual_data"
   ]
  },
  {
   "cell_type": "code",
   "execution_count": 13,
   "metadata": {},
   "outputs": [],
   "source": [
    "DF.drop(DF[DF['Response Time'] > 43200].index, inplace=True)"
   ]
  },
  {
   "cell_type": "markdown",
   "metadata": {},
   "source": [
    "## Weather"
   ]
  },
  {
   "cell_type": "code",
   "execution_count": 14,
   "metadata": {},
   "outputs": [
    {
     "data": {
      "text/html": [
       "<div>\n",
       "<style scoped>\n",
       "    .dataframe tbody tr th:only-of-type {\n",
       "        vertical-align: middle;\n",
       "    }\n",
       "\n",
       "    .dataframe tbody tr th {\n",
       "        vertical-align: top;\n",
       "    }\n",
       "\n",
       "    .dataframe thead th {\n",
       "        text-align: right;\n",
       "    }\n",
       "</style>\n",
       "<table border=\"1\" class=\"dataframe\">\n",
       "  <thead>\n",
       "    <tr style=\"text-align: right;\">\n",
       "      <th></th>\n",
       "      <th>Date time</th>\n",
       "      <th>Precipitation</th>\n",
       "      <th>Wind Speed</th>\n",
       "    </tr>\n",
       "  </thead>\n",
       "  <tbody>\n",
       "    <tr>\n",
       "      <th>0</th>\n",
       "      <td>01/01/2013</td>\n",
       "      <td>NaN</td>\n",
       "      <td>13.0</td>\n",
       "    </tr>\n",
       "    <tr>\n",
       "      <th>1</th>\n",
       "      <td>01/02/2013</td>\n",
       "      <td>0.1</td>\n",
       "      <td>15.1</td>\n",
       "    </tr>\n",
       "    <tr>\n",
       "      <th>2</th>\n",
       "      <td>01/03/2013</td>\n",
       "      <td>NaN</td>\n",
       "      <td>12.3</td>\n",
       "    </tr>\n",
       "    <tr>\n",
       "      <th>3</th>\n",
       "      <td>01/04/2013</td>\n",
       "      <td>NaN</td>\n",
       "      <td>16.4</td>\n",
       "    </tr>\n",
       "    <tr>\n",
       "      <th>4</th>\n",
       "      <td>01/05/2013</td>\n",
       "      <td>NaN</td>\n",
       "      <td>16.1</td>\n",
       "    </tr>\n",
       "  </tbody>\n",
       "</table>\n",
       "</div>"
      ],
      "text/plain": [
       "    Date time  Precipitation  Wind Speed\n",
       "0  01/01/2013            NaN        13.0\n",
       "1  01/02/2013            0.1        15.1\n",
       "2  01/03/2013            NaN        12.3\n",
       "3  01/04/2013            NaN        16.4\n",
       "4  01/05/2013            NaN        16.1"
      ]
     },
     "execution_count": 14,
     "metadata": {},
     "output_type": "execute_result"
    }
   ],
   "source": [
    "weather=pd.read_csv('weather_historical_data.csv')\n",
    "new_weather=weather[['Date time','Precipitation','Wind Speed']]\n",
    "new_weather.head()"
   ]
  },
  {
   "cell_type": "code",
   "execution_count": 15,
   "metadata": {},
   "outputs": [
    {
     "data": {
      "text/html": [
       "<div>\n",
       "<style scoped>\n",
       "    .dataframe tbody tr th:only-of-type {\n",
       "        vertical-align: middle;\n",
       "    }\n",
       "\n",
       "    .dataframe tbody tr th {\n",
       "        vertical-align: top;\n",
       "    }\n",
       "\n",
       "    .dataframe thead th {\n",
       "        text-align: right;\n",
       "    }\n",
       "</style>\n",
       "<table border=\"1\" class=\"dataframe\">\n",
       "  <thead>\n",
       "    <tr style=\"text-align: right;\">\n",
       "      <th></th>\n",
       "      <th>Date</th>\n",
       "      <th>Precipitation</th>\n",
       "      <th>Wind Speed</th>\n",
       "    </tr>\n",
       "  </thead>\n",
       "  <tbody>\n",
       "    <tr>\n",
       "      <th>0</th>\n",
       "      <td>01/01/2013</td>\n",
       "      <td>0.0</td>\n",
       "      <td>13.0</td>\n",
       "    </tr>\n",
       "    <tr>\n",
       "      <th>1</th>\n",
       "      <td>01/02/2013</td>\n",
       "      <td>0.1</td>\n",
       "      <td>15.1</td>\n",
       "    </tr>\n",
       "    <tr>\n",
       "      <th>2</th>\n",
       "      <td>01/03/2013</td>\n",
       "      <td>0.0</td>\n",
       "      <td>12.3</td>\n",
       "    </tr>\n",
       "    <tr>\n",
       "      <th>3</th>\n",
       "      <td>01/04/2013</td>\n",
       "      <td>0.0</td>\n",
       "      <td>16.4</td>\n",
       "    </tr>\n",
       "    <tr>\n",
       "      <th>4</th>\n",
       "      <td>01/05/2013</td>\n",
       "      <td>0.0</td>\n",
       "      <td>16.1</td>\n",
       "    </tr>\n",
       "  </tbody>\n",
       "</table>\n",
       "</div>"
      ],
      "text/plain": [
       "         Date  Precipitation  Wind Speed\n",
       "0  01/01/2013            0.0        13.0\n",
       "1  01/02/2013            0.1        15.1\n",
       "2  01/03/2013            0.0        12.3\n",
       "3  01/04/2013            0.0        16.4\n",
       "4  01/05/2013            0.0        16.1"
      ]
     },
     "execution_count": 15,
     "metadata": {},
     "output_type": "execute_result"
    }
   ],
   "source": [
    "new_weather=new_weather.fillna(0)\n",
    "new_weather.rename(columns={'Date time':'Date'}, inplace=True) # changing name of column in order to merge\n",
    "new_weather.head(5)"
   ]
  },
  {
   "cell_type": "code",
   "execution_count": 16,
   "metadata": {},
   "outputs": [
    {
     "data": {
      "text/html": [
       "<div>\n",
       "<style scoped>\n",
       "    .dataframe tbody tr th:only-of-type {\n",
       "        vertical-align: middle;\n",
       "    }\n",
       "\n",
       "    .dataframe tbody tr th {\n",
       "        vertical-align: top;\n",
       "    }\n",
       "\n",
       "    .dataframe thead th {\n",
       "        text-align: right;\n",
       "    }\n",
       "</style>\n",
       "<table border=\"1\" class=\"dataframe\">\n",
       "  <thead>\n",
       "    <tr style=\"text-align: right;\">\n",
       "      <th></th>\n",
       "      <th>Date</th>\n",
       "      <th>Station Area</th>\n",
       "      <th>Clinical Status</th>\n",
       "      <th>TOC</th>\n",
       "      <th>IA</th>\n",
       "      <th>Response Time</th>\n",
       "      <th>Precipitation</th>\n",
       "      <th>Wind Speed</th>\n",
       "    </tr>\n",
       "  </thead>\n",
       "  <tbody>\n",
       "    <tr>\n",
       "      <th>0</th>\n",
       "      <td>2013-01-01</td>\n",
       "      <td>Tallaght</td>\n",
       "      <td>Non ProQa Class</td>\n",
       "      <td>2013-01-01 00:02:09</td>\n",
       "      <td>2013-01-01 00:10:16</td>\n",
       "      <td>487.0</td>\n",
       "      <td>0.0</td>\n",
       "      <td>13.0</td>\n",
       "    </tr>\n",
       "    <tr>\n",
       "      <th>1</th>\n",
       "      <td>2013-01-01</td>\n",
       "      <td>Tara St</td>\n",
       "      <td>Bravo</td>\n",
       "      <td>2013-01-01 00:02:41</td>\n",
       "      <td>2013-01-01 00:18:10</td>\n",
       "      <td>929.0</td>\n",
       "      <td>0.0</td>\n",
       "      <td>13.0</td>\n",
       "    </tr>\n",
       "    <tr>\n",
       "      <th>2</th>\n",
       "      <td>2013-01-01</td>\n",
       "      <td>Finglas</td>\n",
       "      <td>Delta</td>\n",
       "      <td>2013-01-01 00:13:52</td>\n",
       "      <td>2013-01-01 00:25:06</td>\n",
       "      <td>674.0</td>\n",
       "      <td>0.0</td>\n",
       "      <td>13.0</td>\n",
       "    </tr>\n",
       "    <tr>\n",
       "      <th>3</th>\n",
       "      <td>2013-01-01</td>\n",
       "      <td>Tara St</td>\n",
       "      <td>Bravo</td>\n",
       "      <td>2013-01-01 00:06:58</td>\n",
       "      <td>2013-01-01 00:34:48</td>\n",
       "      <td>1670.0</td>\n",
       "      <td>0.0</td>\n",
       "      <td>13.0</td>\n",
       "    </tr>\n",
       "    <tr>\n",
       "      <th>4</th>\n",
       "      <td>2013-01-01</td>\n",
       "      <td>Tara St</td>\n",
       "      <td>Alpha</td>\n",
       "      <td>2013-01-01 00:14:56</td>\n",
       "      <td>2013-01-01 00:27:25</td>\n",
       "      <td>749.0</td>\n",
       "      <td>0.0</td>\n",
       "      <td>13.0</td>\n",
       "    </tr>\n",
       "  </tbody>\n",
       "</table>\n",
       "</div>"
      ],
      "text/plain": [
       "        Date Station Area  Clinical Status                 TOC  \\\n",
       "0 2013-01-01     Tallaght  Non ProQa Class 2013-01-01 00:02:09   \n",
       "1 2013-01-01      Tara St            Bravo 2013-01-01 00:02:41   \n",
       "2 2013-01-01      Finglas            Delta 2013-01-01 00:13:52   \n",
       "3 2013-01-01      Tara St            Bravo 2013-01-01 00:06:58   \n",
       "4 2013-01-01      Tara St            Alpha 2013-01-01 00:14:56   \n",
       "\n",
       "                   IA  Response Time  Precipitation  Wind Speed  \n",
       "0 2013-01-01 00:10:16          487.0            0.0        13.0  \n",
       "1 2013-01-01 00:18:10          929.0            0.0        13.0  \n",
       "2 2013-01-01 00:25:06          674.0            0.0        13.0  \n",
       "3 2013-01-01 00:34:48         1670.0            0.0        13.0  \n",
       "4 2013-01-01 00:27:25          749.0            0.0        13.0  "
      ]
     },
     "execution_count": 16,
     "metadata": {},
     "output_type": "execute_result"
    }
   ],
   "source": [
    "DF['Date'] = pd.to_datetime(DF['Date'], format='%d/%m/%Y')\n",
    "new_weather['Date'] = pd.to_datetime(new_weather['Date'], format='%m/%d/%Y')\n",
    "DF = pd.merge(DF, new_weather, on='Date')\n",
    "DF.head(5)"
   ]
  },
  {
   "cell_type": "markdown",
   "metadata": {},
   "source": [
    "## Events"
   ]
  },
  {
   "cell_type": "code",
   "execution_count": 17,
   "metadata": {},
   "outputs": [
    {
     "data": {
      "text/html": [
       "<div>\n",
       "<style scoped>\n",
       "    .dataframe tbody tr th:only-of-type {\n",
       "        vertical-align: middle;\n",
       "    }\n",
       "\n",
       "    .dataframe tbody tr th {\n",
       "        vertical-align: top;\n",
       "    }\n",
       "\n",
       "    .dataframe thead th {\n",
       "        text-align: right;\n",
       "    }\n",
       "</style>\n",
       "<table border=\"1\" class=\"dataframe\">\n",
       "  <thead>\n",
       "    <tr style=\"text-align: right;\">\n",
       "      <th></th>\n",
       "      <th>Date</th>\n",
       "      <th>Event</th>\n",
       "    </tr>\n",
       "  </thead>\n",
       "  <tbody>\n",
       "    <tr>\n",
       "      <th>0</th>\n",
       "      <td>01/01/2013</td>\n",
       "      <td>Christmas Break</td>\n",
       "    </tr>\n",
       "    <tr>\n",
       "      <th>1</th>\n",
       "      <td>01/02/2013</td>\n",
       "      <td>Christmas Break</td>\n",
       "    </tr>\n",
       "    <tr>\n",
       "      <th>2</th>\n",
       "      <td>01/03/2013</td>\n",
       "      <td>Christmas Break</td>\n",
       "    </tr>\n",
       "    <tr>\n",
       "      <th>3</th>\n",
       "      <td>01/04/2013</td>\n",
       "      <td>Christmas Break</td>\n",
       "    </tr>\n",
       "    <tr>\n",
       "      <th>4</th>\n",
       "      <td>01/05/2013</td>\n",
       "      <td>none</td>\n",
       "    </tr>\n",
       "  </tbody>\n",
       "</table>\n",
       "</div>"
      ],
      "text/plain": [
       "         Date            Event\n",
       "0  01/01/2013  Christmas Break\n",
       "1  01/02/2013  Christmas Break\n",
       "2  01/03/2013  Christmas Break\n",
       "3  01/04/2013  Christmas Break\n",
       "4  01/05/2013             none"
      ]
     },
     "execution_count": 17,
     "metadata": {},
     "output_type": "execute_result"
    }
   ],
   "source": [
    "events=pd.read_csv('events.csv')\n",
    "events=events.fillna('none')\n",
    "events.rename(columns={'Type':'Event'}, inplace=True)\n",
    "events.head()"
   ]
  },
  {
   "cell_type": "code",
   "execution_count": 18,
   "metadata": {},
   "outputs": [
    {
     "data": {
      "text/plain": [
       "array(['Christmas Break', 'none', 'Rugby Match', 'Mid Term',\n",
       "       \"St Patrick's Day\", 'Easter', 'Football Match', 'Marathon',\n",
       "       'Hurling Match', 'Christmas Eve', 'Christmas', \"St Stephen's Day\",\n",
       "       'New Years Eve', 'New Years Day'], dtype=object)"
      ]
     },
     "execution_count": 18,
     "metadata": {},
     "output_type": "execute_result"
    }
   ],
   "source": [
    "events['Date'] = pd.to_datetime(events['Date'], format='%m/%d/%Y')\n",
    "DF = pd.merge(DF, events, on='Date')\n",
    "DF.Event.unique()"
   ]
  },
  {
   "cell_type": "markdown",
   "metadata": {},
   "source": [
    "## Changing format"
   ]
  },
  {
   "cell_type": "code",
   "execution_count": 19,
   "metadata": {},
   "outputs": [
    {
     "data": {
      "text/html": [
       "<div>\n",
       "<style scoped>\n",
       "    .dataframe tbody tr th:only-of-type {\n",
       "        vertical-align: middle;\n",
       "    }\n",
       "\n",
       "    .dataframe tbody tr th {\n",
       "        vertical-align: top;\n",
       "    }\n",
       "\n",
       "    .dataframe thead th {\n",
       "        text-align: right;\n",
       "    }\n",
       "</style>\n",
       "<table border=\"1\" class=\"dataframe\">\n",
       "  <thead>\n",
       "    <tr style=\"text-align: right;\">\n",
       "      <th></th>\n",
       "      <th>Date</th>\n",
       "      <th>Station Area</th>\n",
       "      <th>Clinical Status</th>\n",
       "      <th>TOC</th>\n",
       "      <th>IA</th>\n",
       "      <th>Response Time</th>\n",
       "      <th>Precipitation</th>\n",
       "      <th>Wind Speed</th>\n",
       "      <th>Event</th>\n",
       "      <th>Hour</th>\n",
       "      <th>Day</th>\n",
       "      <th>Month</th>\n",
       "    </tr>\n",
       "  </thead>\n",
       "  <tbody>\n",
       "    <tr>\n",
       "      <th>0</th>\n",
       "      <td>2013-01-01</td>\n",
       "      <td>Tallaght</td>\n",
       "      <td>Non ProQa Class</td>\n",
       "      <td>2013-01-01 00:02:09</td>\n",
       "      <td>2013-01-01 00:10:16</td>\n",
       "      <td>487.0</td>\n",
       "      <td>0.0</td>\n",
       "      <td>13.0</td>\n",
       "      <td>Christmas Break</td>\n",
       "      <td>0</td>\n",
       "      <td>1</td>\n",
       "      <td>1</td>\n",
       "    </tr>\n",
       "    <tr>\n",
       "      <th>1</th>\n",
       "      <td>2013-01-01</td>\n",
       "      <td>Tara St</td>\n",
       "      <td>Bravo</td>\n",
       "      <td>2013-01-01 00:02:41</td>\n",
       "      <td>2013-01-01 00:18:10</td>\n",
       "      <td>929.0</td>\n",
       "      <td>0.0</td>\n",
       "      <td>13.0</td>\n",
       "      <td>Christmas Break</td>\n",
       "      <td>0</td>\n",
       "      <td>1</td>\n",
       "      <td>1</td>\n",
       "    </tr>\n",
       "    <tr>\n",
       "      <th>2</th>\n",
       "      <td>2013-01-01</td>\n",
       "      <td>Finglas</td>\n",
       "      <td>Delta</td>\n",
       "      <td>2013-01-01 00:13:52</td>\n",
       "      <td>2013-01-01 00:25:06</td>\n",
       "      <td>674.0</td>\n",
       "      <td>0.0</td>\n",
       "      <td>13.0</td>\n",
       "      <td>Christmas Break</td>\n",
       "      <td>0</td>\n",
       "      <td>1</td>\n",
       "      <td>1</td>\n",
       "    </tr>\n",
       "    <tr>\n",
       "      <th>3</th>\n",
       "      <td>2013-01-01</td>\n",
       "      <td>Tara St</td>\n",
       "      <td>Bravo</td>\n",
       "      <td>2013-01-01 00:06:58</td>\n",
       "      <td>2013-01-01 00:34:48</td>\n",
       "      <td>1670.0</td>\n",
       "      <td>0.0</td>\n",
       "      <td>13.0</td>\n",
       "      <td>Christmas Break</td>\n",
       "      <td>0</td>\n",
       "      <td>1</td>\n",
       "      <td>1</td>\n",
       "    </tr>\n",
       "    <tr>\n",
       "      <th>4</th>\n",
       "      <td>2013-01-01</td>\n",
       "      <td>Tara St</td>\n",
       "      <td>Alpha</td>\n",
       "      <td>2013-01-01 00:14:56</td>\n",
       "      <td>2013-01-01 00:27:25</td>\n",
       "      <td>749.0</td>\n",
       "      <td>0.0</td>\n",
       "      <td>13.0</td>\n",
       "      <td>Christmas Break</td>\n",
       "      <td>0</td>\n",
       "      <td>1</td>\n",
       "      <td>1</td>\n",
       "    </tr>\n",
       "  </tbody>\n",
       "</table>\n",
       "</div>"
      ],
      "text/plain": [
       "        Date Station Area  Clinical Status                 TOC  \\\n",
       "0 2013-01-01     Tallaght  Non ProQa Class 2013-01-01 00:02:09   \n",
       "1 2013-01-01      Tara St            Bravo 2013-01-01 00:02:41   \n",
       "2 2013-01-01      Finglas            Delta 2013-01-01 00:13:52   \n",
       "3 2013-01-01      Tara St            Bravo 2013-01-01 00:06:58   \n",
       "4 2013-01-01      Tara St            Alpha 2013-01-01 00:14:56   \n",
       "\n",
       "                   IA  Response Time  Precipitation  Wind Speed  \\\n",
       "0 2013-01-01 00:10:16          487.0            0.0        13.0   \n",
       "1 2013-01-01 00:18:10          929.0            0.0        13.0   \n",
       "2 2013-01-01 00:25:06          674.0            0.0        13.0   \n",
       "3 2013-01-01 00:34:48         1670.0            0.0        13.0   \n",
       "4 2013-01-01 00:27:25          749.0            0.0        13.0   \n",
       "\n",
       "             Event  Hour  Day  Month  \n",
       "0  Christmas Break     0    1      1  \n",
       "1  Christmas Break     0    1      1  \n",
       "2  Christmas Break     0    1      1  \n",
       "3  Christmas Break     0    1      1  \n",
       "4  Christmas Break     0    1      1  "
      ]
     },
     "execution_count": 19,
     "metadata": {},
     "output_type": "execute_result"
    }
   ],
   "source": [
    "DF['Hour'] = DF['TOC'].dt.hour\n",
    "DF['Day']=DF['TOC'].dt.day\n",
    "DF['Month']=DF['TOC'].dt.month\n",
    "DF.head()"
   ]
  },
  {
   "cell_type": "code",
   "execution_count": 20,
   "metadata": {},
   "outputs": [
    {
     "data": {
      "text/html": [
       "<div>\n",
       "<style scoped>\n",
       "    .dataframe tbody tr th:only-of-type {\n",
       "        vertical-align: middle;\n",
       "    }\n",
       "\n",
       "    .dataframe tbody tr th {\n",
       "        vertical-align: top;\n",
       "    }\n",
       "\n",
       "    .dataframe thead th {\n",
       "        text-align: right;\n",
       "    }\n",
       "</style>\n",
       "<table border=\"1\" class=\"dataframe\">\n",
       "  <thead>\n",
       "    <tr style=\"text-align: right;\">\n",
       "      <th></th>\n",
       "      <th>Date</th>\n",
       "      <th>Station Area</th>\n",
       "      <th>Clinical Status</th>\n",
       "      <th>TOC</th>\n",
       "      <th>IA</th>\n",
       "      <th>Response Time</th>\n",
       "      <th>Precipitation</th>\n",
       "      <th>Wind Speed</th>\n",
       "      <th>Event</th>\n",
       "      <th>Hour</th>\n",
       "      <th>Day</th>\n",
       "      <th>Month</th>\n",
       "      <th>IsWeekend</th>\n",
       "    </tr>\n",
       "  </thead>\n",
       "  <tbody>\n",
       "    <tr>\n",
       "      <th>0</th>\n",
       "      <td>2013-01-01</td>\n",
       "      <td>Tallaght</td>\n",
       "      <td>Non ProQa Class</td>\n",
       "      <td>2013-01-01 00:02:09</td>\n",
       "      <td>2013-01-01 00:10:16</td>\n",
       "      <td>487.0</td>\n",
       "      <td>0.0</td>\n",
       "      <td>13.0</td>\n",
       "      <td>Christmas Break</td>\n",
       "      <td>0</td>\n",
       "      <td>1</td>\n",
       "      <td>1</td>\n",
       "      <td>0.0</td>\n",
       "    </tr>\n",
       "    <tr>\n",
       "      <th>1</th>\n",
       "      <td>2013-01-01</td>\n",
       "      <td>Tara St</td>\n",
       "      <td>Bravo</td>\n",
       "      <td>2013-01-01 00:02:41</td>\n",
       "      <td>2013-01-01 00:18:10</td>\n",
       "      <td>929.0</td>\n",
       "      <td>0.0</td>\n",
       "      <td>13.0</td>\n",
       "      <td>Christmas Break</td>\n",
       "      <td>0</td>\n",
       "      <td>1</td>\n",
       "      <td>1</td>\n",
       "      <td>0.0</td>\n",
       "    </tr>\n",
       "    <tr>\n",
       "      <th>2</th>\n",
       "      <td>2013-01-01</td>\n",
       "      <td>Finglas</td>\n",
       "      <td>Delta</td>\n",
       "      <td>2013-01-01 00:13:52</td>\n",
       "      <td>2013-01-01 00:25:06</td>\n",
       "      <td>674.0</td>\n",
       "      <td>0.0</td>\n",
       "      <td>13.0</td>\n",
       "      <td>Christmas Break</td>\n",
       "      <td>0</td>\n",
       "      <td>1</td>\n",
       "      <td>1</td>\n",
       "      <td>0.0</td>\n",
       "    </tr>\n",
       "    <tr>\n",
       "      <th>3</th>\n",
       "      <td>2013-01-01</td>\n",
       "      <td>Tara St</td>\n",
       "      <td>Bravo</td>\n",
       "      <td>2013-01-01 00:06:58</td>\n",
       "      <td>2013-01-01 00:34:48</td>\n",
       "      <td>1670.0</td>\n",
       "      <td>0.0</td>\n",
       "      <td>13.0</td>\n",
       "      <td>Christmas Break</td>\n",
       "      <td>0</td>\n",
       "      <td>1</td>\n",
       "      <td>1</td>\n",
       "      <td>0.0</td>\n",
       "    </tr>\n",
       "    <tr>\n",
       "      <th>4</th>\n",
       "      <td>2013-01-01</td>\n",
       "      <td>Tara St</td>\n",
       "      <td>Alpha</td>\n",
       "      <td>2013-01-01 00:14:56</td>\n",
       "      <td>2013-01-01 00:27:25</td>\n",
       "      <td>749.0</td>\n",
       "      <td>0.0</td>\n",
       "      <td>13.0</td>\n",
       "      <td>Christmas Break</td>\n",
       "      <td>0</td>\n",
       "      <td>1</td>\n",
       "      <td>1</td>\n",
       "      <td>0.0</td>\n",
       "    </tr>\n",
       "  </tbody>\n",
       "</table>\n",
       "</div>"
      ],
      "text/plain": [
       "        Date Station Area  Clinical Status                 TOC  \\\n",
       "0 2013-01-01     Tallaght  Non ProQa Class 2013-01-01 00:02:09   \n",
       "1 2013-01-01      Tara St            Bravo 2013-01-01 00:02:41   \n",
       "2 2013-01-01      Finglas            Delta 2013-01-01 00:13:52   \n",
       "3 2013-01-01      Tara St            Bravo 2013-01-01 00:06:58   \n",
       "4 2013-01-01      Tara St            Alpha 2013-01-01 00:14:56   \n",
       "\n",
       "                   IA  Response Time  Precipitation  Wind Speed  \\\n",
       "0 2013-01-01 00:10:16          487.0            0.0        13.0   \n",
       "1 2013-01-01 00:18:10          929.0            0.0        13.0   \n",
       "2 2013-01-01 00:25:06          674.0            0.0        13.0   \n",
       "3 2013-01-01 00:34:48         1670.0            0.0        13.0   \n",
       "4 2013-01-01 00:27:25          749.0            0.0        13.0   \n",
       "\n",
       "             Event  Hour  Day  Month  IsWeekend  \n",
       "0  Christmas Break     0    1      1        0.0  \n",
       "1  Christmas Break     0    1      1        0.0  \n",
       "2  Christmas Break     0    1      1        0.0  \n",
       "3  Christmas Break     0    1      1        0.0  \n",
       "4  Christmas Break     0    1      1        0.0  "
      ]
     },
     "execution_count": 20,
     "metadata": {},
     "output_type": "execute_result"
    }
   ],
   "source": [
    "DF['IsWeekend'] = ((pd.DatetimeIndex(DF.Date).dayofweek) // 5 == 1).astype(float)\n",
    "DF.head()"
   ]
  },
  {
   "cell_type": "code",
   "execution_count": 21,
   "metadata": {},
   "outputs": [],
   "source": [
    "DF['Hour'] = pd.Categorical(DF.Hour)\n",
    "DF['Day'] = pd.Categorical(DF.Day)\n",
    "DF['Month'] = pd.Categorical(DF.Month)\n",
    "DF['Station Area'] = pd.Categorical(DF['Station Area'])\n",
    "DF['Clinical Status'] = pd.Categorical(DF['Clinical Status'])"
   ]
  },
  {
   "cell_type": "code",
   "execution_count": 22,
   "metadata": {},
   "outputs": [
    {
     "data": {
      "text/html": [
       "<div>\n",
       "<style scoped>\n",
       "    .dataframe tbody tr th:only-of-type {\n",
       "        vertical-align: middle;\n",
       "    }\n",
       "\n",
       "    .dataframe tbody tr th {\n",
       "        vertical-align: top;\n",
       "    }\n",
       "\n",
       "    .dataframe thead th {\n",
       "        text-align: right;\n",
       "    }\n",
       "</style>\n",
       "<table border=\"1\" class=\"dataframe\">\n",
       "  <thead>\n",
       "    <tr style=\"text-align: right;\">\n",
       "      <th></th>\n",
       "      <th>Date</th>\n",
       "      <th>TOC</th>\n",
       "      <th>IA</th>\n",
       "      <th>Response Time</th>\n",
       "      <th>Precipitation</th>\n",
       "      <th>Wind Speed</th>\n",
       "      <th>IsWeekend</th>\n",
       "      <th>Station Area_Blanchardstown</th>\n",
       "      <th>Station Area_Dolphins Barn</th>\n",
       "      <th>Station Area_Donnybrook</th>\n",
       "      <th>...</th>\n",
       "      <th>Month_3</th>\n",
       "      <th>Month_4</th>\n",
       "      <th>Month_5</th>\n",
       "      <th>Month_6</th>\n",
       "      <th>Month_7</th>\n",
       "      <th>Month_8</th>\n",
       "      <th>Month_9</th>\n",
       "      <th>Month_10</th>\n",
       "      <th>Month_11</th>\n",
       "      <th>Month_12</th>\n",
       "    </tr>\n",
       "  </thead>\n",
       "  <tbody>\n",
       "    <tr>\n",
       "      <th>0</th>\n",
       "      <td>2013-01-01</td>\n",
       "      <td>2013-01-01 00:02:09</td>\n",
       "      <td>2013-01-01 00:10:16</td>\n",
       "      <td>487.0</td>\n",
       "      <td>0.0</td>\n",
       "      <td>13.0</td>\n",
       "      <td>0.0</td>\n",
       "      <td>0</td>\n",
       "      <td>0</td>\n",
       "      <td>0</td>\n",
       "      <td>...</td>\n",
       "      <td>0</td>\n",
       "      <td>0</td>\n",
       "      <td>0</td>\n",
       "      <td>0</td>\n",
       "      <td>0</td>\n",
       "      <td>0</td>\n",
       "      <td>0</td>\n",
       "      <td>0</td>\n",
       "      <td>0</td>\n",
       "      <td>0</td>\n",
       "    </tr>\n",
       "    <tr>\n",
       "      <th>1</th>\n",
       "      <td>2013-01-01</td>\n",
       "      <td>2013-01-01 00:02:41</td>\n",
       "      <td>2013-01-01 00:18:10</td>\n",
       "      <td>929.0</td>\n",
       "      <td>0.0</td>\n",
       "      <td>13.0</td>\n",
       "      <td>0.0</td>\n",
       "      <td>0</td>\n",
       "      <td>0</td>\n",
       "      <td>0</td>\n",
       "      <td>...</td>\n",
       "      <td>0</td>\n",
       "      <td>0</td>\n",
       "      <td>0</td>\n",
       "      <td>0</td>\n",
       "      <td>0</td>\n",
       "      <td>0</td>\n",
       "      <td>0</td>\n",
       "      <td>0</td>\n",
       "      <td>0</td>\n",
       "      <td>0</td>\n",
       "    </tr>\n",
       "    <tr>\n",
       "      <th>2</th>\n",
       "      <td>2013-01-01</td>\n",
       "      <td>2013-01-01 00:13:52</td>\n",
       "      <td>2013-01-01 00:25:06</td>\n",
       "      <td>674.0</td>\n",
       "      <td>0.0</td>\n",
       "      <td>13.0</td>\n",
       "      <td>0.0</td>\n",
       "      <td>0</td>\n",
       "      <td>0</td>\n",
       "      <td>0</td>\n",
       "      <td>...</td>\n",
       "      <td>0</td>\n",
       "      <td>0</td>\n",
       "      <td>0</td>\n",
       "      <td>0</td>\n",
       "      <td>0</td>\n",
       "      <td>0</td>\n",
       "      <td>0</td>\n",
       "      <td>0</td>\n",
       "      <td>0</td>\n",
       "      <td>0</td>\n",
       "    </tr>\n",
       "    <tr>\n",
       "      <th>3</th>\n",
       "      <td>2013-01-01</td>\n",
       "      <td>2013-01-01 00:06:58</td>\n",
       "      <td>2013-01-01 00:34:48</td>\n",
       "      <td>1670.0</td>\n",
       "      <td>0.0</td>\n",
       "      <td>13.0</td>\n",
       "      <td>0.0</td>\n",
       "      <td>0</td>\n",
       "      <td>0</td>\n",
       "      <td>0</td>\n",
       "      <td>...</td>\n",
       "      <td>0</td>\n",
       "      <td>0</td>\n",
       "      <td>0</td>\n",
       "      <td>0</td>\n",
       "      <td>0</td>\n",
       "      <td>0</td>\n",
       "      <td>0</td>\n",
       "      <td>0</td>\n",
       "      <td>0</td>\n",
       "      <td>0</td>\n",
       "    </tr>\n",
       "    <tr>\n",
       "      <th>4</th>\n",
       "      <td>2013-01-01</td>\n",
       "      <td>2013-01-01 00:14:56</td>\n",
       "      <td>2013-01-01 00:27:25</td>\n",
       "      <td>749.0</td>\n",
       "      <td>0.0</td>\n",
       "      <td>13.0</td>\n",
       "      <td>0.0</td>\n",
       "      <td>0</td>\n",
       "      <td>0</td>\n",
       "      <td>0</td>\n",
       "      <td>...</td>\n",
       "      <td>0</td>\n",
       "      <td>0</td>\n",
       "      <td>0</td>\n",
       "      <td>0</td>\n",
       "      <td>0</td>\n",
       "      <td>0</td>\n",
       "      <td>0</td>\n",
       "      <td>0</td>\n",
       "      <td>0</td>\n",
       "      <td>0</td>\n",
       "    </tr>\n",
       "  </tbody>\n",
       "</table>\n",
       "<p>5 rows × 113 columns</p>\n",
       "</div>"
      ],
      "text/plain": [
       "        Date                 TOC                  IA  Response Time  \\\n",
       "0 2013-01-01 2013-01-01 00:02:09 2013-01-01 00:10:16          487.0   \n",
       "1 2013-01-01 2013-01-01 00:02:41 2013-01-01 00:18:10          929.0   \n",
       "2 2013-01-01 2013-01-01 00:13:52 2013-01-01 00:25:06          674.0   \n",
       "3 2013-01-01 2013-01-01 00:06:58 2013-01-01 00:34:48         1670.0   \n",
       "4 2013-01-01 2013-01-01 00:14:56 2013-01-01 00:27:25          749.0   \n",
       "\n",
       "   Precipitation  Wind Speed  IsWeekend  Station Area_Blanchardstown  \\\n",
       "0            0.0        13.0        0.0                            0   \n",
       "1            0.0        13.0        0.0                            0   \n",
       "2            0.0        13.0        0.0                            0   \n",
       "3            0.0        13.0        0.0                            0   \n",
       "4            0.0        13.0        0.0                            0   \n",
       "\n",
       "   Station Area_Dolphins Barn  Station Area_Donnybrook  ...  Month_3  Month_4  \\\n",
       "0                           0                        0  ...        0        0   \n",
       "1                           0                        0  ...        0        0   \n",
       "2                           0                        0  ...        0        0   \n",
       "3                           0                        0  ...        0        0   \n",
       "4                           0                        0  ...        0        0   \n",
       "\n",
       "   Month_5  Month_6  Month_7  Month_8  Month_9  Month_10  Month_11  Month_12  \n",
       "0        0        0        0        0        0         0         0         0  \n",
       "1        0        0        0        0        0         0         0         0  \n",
       "2        0        0        0        0        0         0         0         0  \n",
       "3        0        0        0        0        0         0         0         0  \n",
       "4        0        0        0        0        0         0         0         0  \n",
       "\n",
       "[5 rows x 113 columns]"
      ]
     },
     "execution_count": 22,
     "metadata": {},
     "output_type": "execute_result"
    }
   ],
   "source": [
    "DF = pd.get_dummies(DF, prefix_sep='_', drop_first=True)\n",
    "DF.head()"
   ]
  },
  {
   "cell_type": "code",
   "execution_count": 23,
   "metadata": {},
   "outputs": [
    {
     "data": {
      "text/html": [
       "<div>\n",
       "<style scoped>\n",
       "    .dataframe tbody tr th:only-of-type {\n",
       "        vertical-align: middle;\n",
       "    }\n",
       "\n",
       "    .dataframe tbody tr th {\n",
       "        vertical-align: top;\n",
       "    }\n",
       "\n",
       "    .dataframe thead th {\n",
       "        text-align: right;\n",
       "    }\n",
       "</style>\n",
       "<table border=\"1\" class=\"dataframe\">\n",
       "  <thead>\n",
       "    <tr style=\"text-align: right;\">\n",
       "      <th></th>\n",
       "      <th>Date</th>\n",
       "      <th>TOC</th>\n",
       "      <th>IA</th>\n",
       "      <th>Response Time</th>\n",
       "      <th>Precipitation</th>\n",
       "      <th>Wind Speed</th>\n",
       "      <th>IsWeekend</th>\n",
       "      <th>Station Area_Blanchardstown</th>\n",
       "      <th>Station Area_Dolphins Barn</th>\n",
       "      <th>Station Area_Donnybrook</th>\n",
       "      <th>...</th>\n",
       "      <th>Month_3</th>\n",
       "      <th>Month_4</th>\n",
       "      <th>Month_5</th>\n",
       "      <th>Month_6</th>\n",
       "      <th>Month_7</th>\n",
       "      <th>Month_8</th>\n",
       "      <th>Month_9</th>\n",
       "      <th>Month_10</th>\n",
       "      <th>Month_11</th>\n",
       "      <th>Month_12</th>\n",
       "    </tr>\n",
       "  </thead>\n",
       "  <tbody>\n",
       "    <tr>\n",
       "      <th>122305</th>\n",
       "      <td>2015-01-01</td>\n",
       "      <td>2015-01-01 00:01:54</td>\n",
       "      <td>2015-01-01 00:13:57</td>\n",
       "      <td>723.0</td>\n",
       "      <td>0.2</td>\n",
       "      <td>27.6</td>\n",
       "      <td>0.0</td>\n",
       "      <td>0</td>\n",
       "      <td>0</td>\n",
       "      <td>0</td>\n",
       "      <td>...</td>\n",
       "      <td>0</td>\n",
       "      <td>0</td>\n",
       "      <td>0</td>\n",
       "      <td>0</td>\n",
       "      <td>0</td>\n",
       "      <td>0</td>\n",
       "      <td>0</td>\n",
       "      <td>0</td>\n",
       "      <td>0</td>\n",
       "      <td>0</td>\n",
       "    </tr>\n",
       "    <tr>\n",
       "      <th>122306</th>\n",
       "      <td>2015-01-01</td>\n",
       "      <td>2015-01-01 00:14:37</td>\n",
       "      <td>2015-01-01 00:28:31</td>\n",
       "      <td>834.0</td>\n",
       "      <td>0.2</td>\n",
       "      <td>27.6</td>\n",
       "      <td>0.0</td>\n",
       "      <td>0</td>\n",
       "      <td>0</td>\n",
       "      <td>0</td>\n",
       "      <td>...</td>\n",
       "      <td>0</td>\n",
       "      <td>0</td>\n",
       "      <td>0</td>\n",
       "      <td>0</td>\n",
       "      <td>0</td>\n",
       "      <td>0</td>\n",
       "      <td>0</td>\n",
       "      <td>0</td>\n",
       "      <td>0</td>\n",
       "      <td>0</td>\n",
       "    </tr>\n",
       "    <tr>\n",
       "      <th>122307</th>\n",
       "      <td>2015-01-01</td>\n",
       "      <td>2015-01-01 00:09:12</td>\n",
       "      <td>2015-01-01 00:29:25</td>\n",
       "      <td>1213.0</td>\n",
       "      <td>0.2</td>\n",
       "      <td>27.6</td>\n",
       "      <td>0.0</td>\n",
       "      <td>0</td>\n",
       "      <td>0</td>\n",
       "      <td>0</td>\n",
       "      <td>...</td>\n",
       "      <td>0</td>\n",
       "      <td>0</td>\n",
       "      <td>0</td>\n",
       "      <td>0</td>\n",
       "      <td>0</td>\n",
       "      <td>0</td>\n",
       "      <td>0</td>\n",
       "      <td>0</td>\n",
       "      <td>0</td>\n",
       "      <td>0</td>\n",
       "    </tr>\n",
       "    <tr>\n",
       "      <th>122308</th>\n",
       "      <td>2015-01-01</td>\n",
       "      <td>2015-01-01 00:18:07</td>\n",
       "      <td>2015-01-01 00:34:19</td>\n",
       "      <td>972.0</td>\n",
       "      <td>0.2</td>\n",
       "      <td>27.6</td>\n",
       "      <td>0.0</td>\n",
       "      <td>0</td>\n",
       "      <td>0</td>\n",
       "      <td>0</td>\n",
       "      <td>...</td>\n",
       "      <td>0</td>\n",
       "      <td>0</td>\n",
       "      <td>0</td>\n",
       "      <td>0</td>\n",
       "      <td>0</td>\n",
       "      <td>0</td>\n",
       "      <td>0</td>\n",
       "      <td>0</td>\n",
       "      <td>0</td>\n",
       "      <td>0</td>\n",
       "    </tr>\n",
       "    <tr>\n",
       "      <th>122309</th>\n",
       "      <td>2015-01-01</td>\n",
       "      <td>2015-01-01 00:20:57</td>\n",
       "      <td>2015-01-01 00:35:10</td>\n",
       "      <td>853.0</td>\n",
       "      <td>0.2</td>\n",
       "      <td>27.6</td>\n",
       "      <td>0.0</td>\n",
       "      <td>0</td>\n",
       "      <td>0</td>\n",
       "      <td>0</td>\n",
       "      <td>...</td>\n",
       "      <td>0</td>\n",
       "      <td>0</td>\n",
       "      <td>0</td>\n",
       "      <td>0</td>\n",
       "      <td>0</td>\n",
       "      <td>0</td>\n",
       "      <td>0</td>\n",
       "      <td>0</td>\n",
       "      <td>0</td>\n",
       "      <td>0</td>\n",
       "    </tr>\n",
       "  </tbody>\n",
       "</table>\n",
       "<p>5 rows × 113 columns</p>\n",
       "</div>"
      ],
      "text/plain": [
       "             Date                 TOC                  IA  Response Time  \\\n",
       "122305 2015-01-01 2015-01-01 00:01:54 2015-01-01 00:13:57          723.0   \n",
       "122306 2015-01-01 2015-01-01 00:14:37 2015-01-01 00:28:31          834.0   \n",
       "122307 2015-01-01 2015-01-01 00:09:12 2015-01-01 00:29:25         1213.0   \n",
       "122308 2015-01-01 2015-01-01 00:18:07 2015-01-01 00:34:19          972.0   \n",
       "122309 2015-01-01 2015-01-01 00:20:57 2015-01-01 00:35:10          853.0   \n",
       "\n",
       "        Precipitation  Wind Speed  IsWeekend  Station Area_Blanchardstown  \\\n",
       "122305            0.2        27.6        0.0                            0   \n",
       "122306            0.2        27.6        0.0                            0   \n",
       "122307            0.2        27.6        0.0                            0   \n",
       "122308            0.2        27.6        0.0                            0   \n",
       "122309            0.2        27.6        0.0                            0   \n",
       "\n",
       "        Station Area_Dolphins Barn  Station Area_Donnybrook  ...  Month_3  \\\n",
       "122305                           0                        0  ...        0   \n",
       "122306                           0                        0  ...        0   \n",
       "122307                           0                        0  ...        0   \n",
       "122308                           0                        0  ...        0   \n",
       "122309                           0                        0  ...        0   \n",
       "\n",
       "        Month_4  Month_5  Month_6  Month_7  Month_8  Month_9  Month_10  \\\n",
       "122305        0        0        0        0        0        0         0   \n",
       "122306        0        0        0        0        0        0         0   \n",
       "122307        0        0        0        0        0        0         0   \n",
       "122308        0        0        0        0        0        0         0   \n",
       "122309        0        0        0        0        0        0         0   \n",
       "\n",
       "        Month_11  Month_12  \n",
       "122305         0         0  \n",
       "122306         0         0  \n",
       "122307         0         0  \n",
       "122308         0         0  \n",
       "122309         0         0  \n",
       "\n",
       "[5 rows x 113 columns]"
      ]
     },
     "execution_count": 23,
     "metadata": {},
     "output_type": "execute_result"
    }
   ],
   "source": [
    "test = DF[DF['TOC'].dt.year == 2015]\n",
    "train=DF[DF['TOC'].dt.year != 2015]\n",
    "test.head()"
   ]
  },
  {
   "cell_type": "markdown",
   "metadata": {},
   "source": [
    "### Baseline Model"
   ]
  },
  {
   "cell_type": "code",
   "execution_count": 24,
   "metadata": {},
   "outputs": [
    {
     "name": "stderr",
     "output_type": "stream",
     "text": [
      "C:\\Users\\Lauren\\Anaconda3\\lib\\site-packages\\ipykernel_launcher.py:2: SettingWithCopyWarning: \n",
      "A value is trying to be set on a copy of a slice from a DataFrame.\n",
      "Try using .loc[row_indexer,col_indexer] = value instead\n",
      "\n",
      "See the caveats in the documentation: http://pandas.pydata.org/pandas-docs/stable/indexing.html#indexing-view-versus-copy\n",
      "  \n"
     ]
    }
   ],
   "source": [
    "mean=test['Response Time'].mean()\n",
    "test['2015 Base Prediction']=mean\n"
   ]
  },
  {
   "cell_type": "markdown",
   "metadata": {},
   "source": [
    "### Linear Regression"
   ]
  },
  {
   "cell_type": "code",
   "execution_count": 25,
   "metadata": {},
   "outputs": [],
   "source": [
    "from sklearn.linear_model import LinearRegression\n",
    "lr= LinearRegression()\n",
    "Y_train=train['Response Time']\n",
    "X_train=train.drop(columns=['Response Time','Date','TOC','IA'])\n",
    "Y_test=test['Response Time']\n",
    "X_test=test.drop(columns=['Response Time','Date','TOC','IA','2015 Base Prediction'])"
   ]
  },
  {
   "cell_type": "code",
   "execution_count": 26,
   "metadata": {},
   "outputs": [
    {
     "name": "stdout",
     "output_type": "stream",
     "text": [
      "                                 OLS Regression Results                                \n",
      "=======================================================================================\n",
      "Dep. Variable:          Response Time   R-squared (uncentered):                   0.642\n",
      "Model:                            OLS   Adj. R-squared (uncentered):              0.642\n",
      "Method:                 Least Squares   F-statistic:                              2013.\n",
      "Date:                Mon, 27 Apr 2020   Prob (F-statistic):                        0.00\n",
      "Time:                        20:07:04   Log-Likelihood:                     -9.8581e+05\n",
      "No. Observations:              122307   AIC:                                  1.972e+06\n",
      "Df Residuals:                  122198   BIC:                                  1.973e+06\n",
      "Df Model:                         109                                                  \n",
      "Covariance Type:            nonrobust                                                  \n",
      "===================================================================================================\n",
      "                                      coef    std err          t      P>|t|      [0.025      0.975]\n",
      "---------------------------------------------------------------------------------------------------\n",
      "Precipitation                      23.3573     12.553      1.861      0.063      -1.246      47.961\n",
      "Wind Speed                          2.3114      0.420      5.498      0.000       1.487       3.135\n",
      "IsWeekend                         -97.7781      5.229    -18.700      0.000    -108.026     -87.530\n",
      "Station Area_Blanchardstown      -500.0954     21.904    -22.832      0.000    -543.026    -457.165\n",
      "Station Area_Dolphins Barn       -665.9299     21.399    -31.120      0.000    -707.871    -623.989\n",
      "Station Area_Donnybrook          -703.7849     22.676    -31.036      0.000    -748.230    -659.340\n",
      "Station Area_Dun Laoghaire       -646.4676     59.315    -10.899      0.000    -762.724    -530.211\n",
      "Station Area_Finglas             -573.4851     21.439    -26.750      0.000    -615.505    -531.465\n",
      "Station Area_Kilbarrack          -559.6242     21.263    -26.319      0.000    -601.299    -517.950\n",
      "Station Area_MH14                -805.0911    313.623     -2.567      0.010   -1419.788    -190.395\n",
      "Station Area_MH17                 328.7750    542.609      0.606      0.545    -734.730    1392.280\n",
      "Station Area_North Strand        -719.3132     22.500    -31.969      0.000    -763.413    -675.213\n",
      "Station Area_Phibsborough        -706.8303     21.337    -33.126      0.000    -748.651    -665.009\n",
      "Station Area_Rathfarnham         -598.7536     22.232    -26.932      0.000    -642.328    -555.179\n",
      "Station Area_Skerries             185.7497     29.824      6.228      0.000     127.296     244.203\n",
      "Station Area_Swords              -352.5216     23.320    -15.117      0.000    -398.229    -306.815\n",
      "Station Area_Tallaght            -443.7003     21.010    -21.119      0.000    -484.879    -402.522\n",
      "Station Area_Tara St             -787.5949     21.176    -37.194      0.000    -829.099    -746.091\n",
      "Clinical Status_Alpha             -30.9920     10.049     -3.084      0.002     -50.688     -11.296\n",
      "Clinical Status_B                -231.3776     12.129    -19.077      0.000    -255.150    -207.605\n",
      "Clinical Status_BRAVO            -839.4354    766.875     -1.095      0.274   -2342.498     663.628\n",
      "Clinical Status_Bravo            -211.6207     10.493    -20.168      0.000    -232.187    -191.055\n",
      "Clinical Status_C                -153.5719     10.418    -14.742      0.000    -173.990    -133.154\n",
      "Clinical Status_Charlie          -182.8152     10.270    -17.801      0.000    -202.944    -162.686\n",
      "Clinical Status_D                -333.5176      8.471    -39.370      0.000    -350.121    -316.914\n",
      "Clinical Status_Delta            -330.5663      8.978    -36.818      0.000    -348.164    -312.969\n",
      "Clinical Status_E                -616.0578     23.407    -26.320      0.000    -661.935    -570.181\n",
      "Clinical Status_Echo             -675.1142     27.953    -24.152      0.000    -729.902    -620.327\n",
      "Clinical Status_Non ProQa Class  -394.5723     14.871    -26.533      0.000    -423.719    -365.425\n",
      "Clinical Status_Not Classed      -343.6891     43.910     -7.827      0.000    -429.752    -257.626\n",
      "Clinical Status_O                  69.4059     15.415      4.503      0.000      39.193      99.618\n",
      "Clinical Status_Omega              26.6234     13.613      1.956      0.051      -0.058      53.305\n",
      "Event_Christmas Break            1505.3212     29.103     51.724      0.000    1448.279    1562.363\n",
      "Event_Christmas Eve              1117.6537     53.389     20.934      0.000    1013.012    1222.296\n",
      "Event_Easter                     1416.7856     29.606     47.854      0.000    1358.758    1474.813\n",
      "Event_Football Match             1429.3494     31.410     45.507      0.000    1367.787    1490.912\n",
      "Event_Hurling Match              1456.4642     33.752     43.152      0.000    1390.311    1522.617\n",
      "Event_Marathon                   1327.2991     49.508     26.810      0.000    1230.265    1424.333\n",
      "Event_Mid Term                   1460.1843     30.001     48.672      0.000    1401.383    1518.985\n",
      "Event_New Years Day              1895.3420     54.653     34.680      0.000    1788.223    2002.461\n",
      "Event_New Years Eve              1176.6345     52.339     22.481      0.000    1074.052    1279.217\n",
      "Event_Rugby Match                1435.5631     40.549     35.403      0.000    1356.088    1515.038\n",
      "Event_St Patrick's Day           1417.0808     48.175     29.416      0.000    1322.660    1511.502\n",
      "Event_St Stephen's Day           1215.6997     51.470     23.619      0.000    1114.819    1316.580\n",
      "Event_none                       1419.2891     25.942     54.710      0.000    1368.443    1470.135\n",
      "Hour_1                             43.7156     15.339      2.850      0.004      13.651      73.780\n",
      "Hour_2                             42.2702     15.645      2.702      0.007      11.605      72.935\n",
      "Hour_3                             34.1447     16.443      2.077      0.038       1.917      66.372\n",
      "Hour_4                             -4.1253     17.824     -0.231      0.817     -39.059      30.809\n",
      "Hour_5                            -26.2021     19.043     -1.376      0.169     -63.526      11.122\n",
      "Hour_6                            -18.0664     19.434     -0.930      0.353     -56.156      20.024\n",
      "Hour_7                            -42.9878     18.153     -2.368      0.018     -78.567      -7.408\n",
      "Hour_8                            -35.1056     16.407     -2.140      0.032     -67.262      -2.949\n",
      "Hour_9                             24.2421     15.121      1.603      0.109      -5.395      53.880\n",
      "Hour_10                           153.7986     14.656     10.494      0.000     125.073     182.525\n",
      "Hour_11                           224.3252     14.382     15.598      0.000     196.137     252.514\n",
      "Hour_12                           286.5480     14.188     20.196      0.000     258.739     314.357\n",
      "Hour_13                           411.8124     14.206     28.988      0.000     383.968     439.657\n",
      "Hour_14                           388.3223     14.129     27.485      0.000     360.631     416.014\n",
      "Hour_15                           345.2514     14.172     24.361      0.000     317.474     373.029\n",
      "Hour_16                           290.2199     14.384     20.177      0.000     262.028     318.412\n",
      "Hour_17                           350.9873     14.347     24.465      0.000     322.868     379.107\n",
      "Hour_18                           322.5263     14.251     22.632      0.000     294.595     350.457\n",
      "Hour_19                           271.0870     14.323     18.927      0.000     243.015     299.159\n",
      "Hour_20                           221.5949     14.349     15.443      0.000     193.471     249.719\n",
      "Hour_21                           166.5997     14.382     11.584      0.000     138.411     194.788\n",
      "Hour_22                           106.5329     14.550      7.322      0.000      78.014     135.051\n",
      "Hour_23                            87.0855     14.769      5.897      0.000      58.139     116.032\n",
      "Day_2                             112.4016     18.398      6.110      0.000      76.343     148.461\n",
      "Day_3                             214.6469     18.236     11.771      0.000     178.906     250.388\n",
      "Day_4                             142.5591     18.324      7.780      0.000     106.644     178.474\n",
      "Day_5                              42.6654     18.118      2.355      0.019       7.154      78.176\n",
      "Day_6                              97.3627     18.046      5.395      0.000      61.992     132.734\n",
      "Day_7                             166.1404     18.077      9.191      0.000     130.709     201.571\n",
      "Day_8                               2.4443     19.024      0.128      0.898     -34.843      39.732\n",
      "Day_9                              98.6142     18.155      5.432      0.000      63.030     134.198\n",
      "Day_10                            134.8682     18.078      7.460      0.000      99.435     170.302\n",
      "Day_11                            193.0650     18.124     10.652      0.000     157.542     228.588\n",
      "Day_12                            276.8696     18.013     15.371      0.000     241.565     312.174\n",
      "Day_13                            128.6013     18.173      7.077      0.000      92.983     164.220\n",
      "Day_14                             96.5260     18.050      5.348      0.000      61.147     131.904\n",
      "Day_15                            141.9535     18.110      7.838      0.000     106.458     177.449\n",
      "Day_16                            114.8839     18.069      6.358      0.000      79.469     150.299\n",
      "Day_17                            117.2890     18.454      6.356      0.000      81.119     153.459\n",
      "Day_18                            176.1584     17.940      9.820      0.000     140.997     211.320\n",
      "Day_19                            108.7268     18.105      6.005      0.000      73.241     144.212\n",
      "Day_20                            116.6474     18.054      6.461      0.000      81.261     152.034\n",
      "Day_21                             62.1973     18.050      3.446      0.001      26.820      97.575\n",
      "Day_22                            100.3414     17.759      5.650      0.000      65.533     135.150\n",
      "Day_23                            103.5063     17.657      5.862      0.000      68.898     138.115\n",
      "Day_24                             99.1642     18.439      5.378      0.000      63.025     135.304\n",
      "Day_25                            228.8314     17.678     12.945      0.000     194.183     263.479\n",
      "Day_26                            108.4115     18.301      5.924      0.000      72.543     144.280\n",
      "Day_27                            100.7882     17.831      5.653      0.000      65.840     135.736\n",
      "Day_28                             83.8688     18.233      4.600      0.000      48.133     119.605\n",
      "Day_29                             72.6474     18.276      3.975      0.000      36.827     108.468\n",
      "Day_30                             48.1575     17.965      2.681      0.007      12.946      83.369\n",
      "Day_31                            146.7678     22.209      6.608      0.000     103.238     190.297\n",
      "Month_2                            66.9047     11.186      5.981      0.000      44.980      88.829\n",
      "Month_3                            88.5708     10.933      8.101      0.000      67.142     110.000\n",
      "Month_4                            74.4410     11.182      6.657      0.000      52.524      96.358\n",
      "Month_5                            49.4111     10.752      4.595      0.000      28.337      70.485\n",
      "Month_6                            43.7094     10.862      4.024      0.000      22.421      64.998\n",
      "Month_7                            31.3116     10.826      2.892      0.004      10.093      52.530\n",
      "Month_8                            14.9028     10.906      1.366      0.172      -6.473      36.278\n",
      "Month_9                            50.1221     10.929      4.586      0.000      28.701      71.543\n",
      "Month_10                           20.1202     11.021      1.826      0.068      -1.480      41.720\n",
      "Month_11                          127.0919     10.928     11.630      0.000     105.674     148.510\n",
      "Month_12                          168.3012     11.034     15.253      0.000     146.675     189.927\n",
      "==============================================================================\n",
      "Omnibus:                   113169.621   Durbin-Watson:                   1.663\n",
      "Prob(Omnibus):                  0.000   Jarque-Bera (JB):          8279977.052\n",
      "Skew:                           4.267   Prob(JB):                         0.00\n",
      "Kurtosis:                      42.395   Cond. No.                     5.72e+03\n",
      "==============================================================================\n",
      "\n",
      "Warnings:\n",
      "[1] Standard Errors assume that the covariance matrix of the errors is correctly specified.\n",
      "[2] The condition number is large, 5.72e+03. This might indicate that there are\n",
      "strong multicollinearity or other numerical problems.\n"
     ]
    }
   ],
   "source": [
    "import statsmodels.api as sm\n",
    "\n",
    "model = sm.OLS(Y_train, X_train).fit()\n",
    "y_pred = model.predict(X_train)  \n",
    "print_model = model.summary()\n",
    "print(print_model)"
   ]
  },
  {
   "cell_type": "code",
   "execution_count": 27,
   "metadata": {},
   "outputs": [
    {
     "name": "stderr",
     "output_type": "stream",
     "text": [
      "C:\\Users\\Lauren\\Anaconda3\\lib\\site-packages\\ipykernel_launcher.py:1: SettingWithCopyWarning: \n",
      "A value is trying to be set on a copy of a slice from a DataFrame.\n",
      "Try using .loc[row_indexer,col_indexer] = value instead\n",
      "\n",
      "See the caveats in the documentation: http://pandas.pydata.org/pandas-docs/stable/indexing.html#indexing-view-versus-copy\n",
      "  \"\"\"Entry point for launching an IPython kernel.\n"
     ]
    }
   ],
   "source": [
    "train['Predictions']=y_pred"
   ]
  },
  {
   "cell_type": "code",
   "execution_count": 28,
   "metadata": {},
   "outputs": [
    {
     "data": {
      "text/html": [
       "<div>\n",
       "<style scoped>\n",
       "    .dataframe tbody tr th:only-of-type {\n",
       "        vertical-align: middle;\n",
       "    }\n",
       "\n",
       "    .dataframe tbody tr th {\n",
       "        vertical-align: top;\n",
       "    }\n",
       "\n",
       "    .dataframe thead th {\n",
       "        text-align: right;\n",
       "    }\n",
       "</style>\n",
       "<table border=\"1\" class=\"dataframe\">\n",
       "  <thead>\n",
       "    <tr style=\"text-align: right;\">\n",
       "      <th></th>\n",
       "      <th>Date</th>\n",
       "      <th>TOC</th>\n",
       "      <th>IA</th>\n",
       "      <th>Response Time</th>\n",
       "      <th>Precipitation</th>\n",
       "      <th>Wind Speed</th>\n",
       "      <th>IsWeekend</th>\n",
       "      <th>Station Area_Blanchardstown</th>\n",
       "      <th>Station Area_Dolphins Barn</th>\n",
       "      <th>Station Area_Donnybrook</th>\n",
       "      <th>...</th>\n",
       "      <th>Month_4</th>\n",
       "      <th>Month_5</th>\n",
       "      <th>Month_6</th>\n",
       "      <th>Month_7</th>\n",
       "      <th>Month_8</th>\n",
       "      <th>Month_9</th>\n",
       "      <th>Month_10</th>\n",
       "      <th>Month_11</th>\n",
       "      <th>Month_12</th>\n",
       "      <th>Predictions</th>\n",
       "    </tr>\n",
       "  </thead>\n",
       "  <tbody>\n",
       "    <tr>\n",
       "      <th>0</th>\n",
       "      <td>2013-01-01</td>\n",
       "      <td>2013-01-01 00:02:09</td>\n",
       "      <td>2013-01-01 00:10:16</td>\n",
       "      <td>487.0</td>\n",
       "      <td>0.0</td>\n",
       "      <td>13.0</td>\n",
       "      <td>0.0</td>\n",
       "      <td>0</td>\n",
       "      <td>0</td>\n",
       "      <td>0</td>\n",
       "      <td>...</td>\n",
       "      <td>0</td>\n",
       "      <td>0</td>\n",
       "      <td>0</td>\n",
       "      <td>0</td>\n",
       "      <td>0</td>\n",
       "      <td>0</td>\n",
       "      <td>0</td>\n",
       "      <td>0</td>\n",
       "      <td>0</td>\n",
       "      <td>697.096155</td>\n",
       "    </tr>\n",
       "    <tr>\n",
       "      <th>1</th>\n",
       "      <td>2013-01-01</td>\n",
       "      <td>2013-01-01 00:02:41</td>\n",
       "      <td>2013-01-01 00:18:10</td>\n",
       "      <td>929.0</td>\n",
       "      <td>0.0</td>\n",
       "      <td>13.0</td>\n",
       "      <td>0.0</td>\n",
       "      <td>0</td>\n",
       "      <td>0</td>\n",
       "      <td>0</td>\n",
       "      <td>...</td>\n",
       "      <td>0</td>\n",
       "      <td>0</td>\n",
       "      <td>0</td>\n",
       "      <td>0</td>\n",
       "      <td>0</td>\n",
       "      <td>0</td>\n",
       "      <td>0</td>\n",
       "      <td>0</td>\n",
       "      <td>0</td>\n",
       "      <td>536.153196</td>\n",
       "    </tr>\n",
       "    <tr>\n",
       "      <th>2</th>\n",
       "      <td>2013-01-01</td>\n",
       "      <td>2013-01-01 00:13:52</td>\n",
       "      <td>2013-01-01 00:25:06</td>\n",
       "      <td>674.0</td>\n",
       "      <td>0.0</td>\n",
       "      <td>13.0</td>\n",
       "      <td>0.0</td>\n",
       "      <td>0</td>\n",
       "      <td>0</td>\n",
       "      <td>0</td>\n",
       "      <td>...</td>\n",
       "      <td>0</td>\n",
       "      <td>0</td>\n",
       "      <td>0</td>\n",
       "      <td>0</td>\n",
       "      <td>0</td>\n",
       "      <td>0</td>\n",
       "      <td>0</td>\n",
       "      <td>0</td>\n",
       "      <td>0</td>\n",
       "      <td>631.317405</td>\n",
       "    </tr>\n",
       "    <tr>\n",
       "      <th>3</th>\n",
       "      <td>2013-01-01</td>\n",
       "      <td>2013-01-01 00:06:58</td>\n",
       "      <td>2013-01-01 00:34:48</td>\n",
       "      <td>1670.0</td>\n",
       "      <td>0.0</td>\n",
       "      <td>13.0</td>\n",
       "      <td>0.0</td>\n",
       "      <td>0</td>\n",
       "      <td>0</td>\n",
       "      <td>0</td>\n",
       "      <td>...</td>\n",
       "      <td>0</td>\n",
       "      <td>0</td>\n",
       "      <td>0</td>\n",
       "      <td>0</td>\n",
       "      <td>0</td>\n",
       "      <td>0</td>\n",
       "      <td>0</td>\n",
       "      <td>0</td>\n",
       "      <td>0</td>\n",
       "      <td>536.153196</td>\n",
       "    </tr>\n",
       "    <tr>\n",
       "      <th>4</th>\n",
       "      <td>2013-01-01</td>\n",
       "      <td>2013-01-01 00:14:56</td>\n",
       "      <td>2013-01-01 00:27:25</td>\n",
       "      <td>749.0</td>\n",
       "      <td>0.0</td>\n",
       "      <td>13.0</td>\n",
       "      <td>0.0</td>\n",
       "      <td>0</td>\n",
       "      <td>0</td>\n",
       "      <td>0</td>\n",
       "      <td>...</td>\n",
       "      <td>0</td>\n",
       "      <td>0</td>\n",
       "      <td>0</td>\n",
       "      <td>0</td>\n",
       "      <td>0</td>\n",
       "      <td>0</td>\n",
       "      <td>0</td>\n",
       "      <td>0</td>\n",
       "      <td>0</td>\n",
       "      <td>716.781904</td>\n",
       "    </tr>\n",
       "  </tbody>\n",
       "</table>\n",
       "<p>5 rows × 114 columns</p>\n",
       "</div>"
      ],
      "text/plain": [
       "        Date                 TOC                  IA  Response Time  \\\n",
       "0 2013-01-01 2013-01-01 00:02:09 2013-01-01 00:10:16          487.0   \n",
       "1 2013-01-01 2013-01-01 00:02:41 2013-01-01 00:18:10          929.0   \n",
       "2 2013-01-01 2013-01-01 00:13:52 2013-01-01 00:25:06          674.0   \n",
       "3 2013-01-01 2013-01-01 00:06:58 2013-01-01 00:34:48         1670.0   \n",
       "4 2013-01-01 2013-01-01 00:14:56 2013-01-01 00:27:25          749.0   \n",
       "\n",
       "   Precipitation  Wind Speed  IsWeekend  Station Area_Blanchardstown  \\\n",
       "0            0.0        13.0        0.0                            0   \n",
       "1            0.0        13.0        0.0                            0   \n",
       "2            0.0        13.0        0.0                            0   \n",
       "3            0.0        13.0        0.0                            0   \n",
       "4            0.0        13.0        0.0                            0   \n",
       "\n",
       "   Station Area_Dolphins Barn  Station Area_Donnybrook  ...  Month_4  Month_5  \\\n",
       "0                           0                        0  ...        0        0   \n",
       "1                           0                        0  ...        0        0   \n",
       "2                           0                        0  ...        0        0   \n",
       "3                           0                        0  ...        0        0   \n",
       "4                           0                        0  ...        0        0   \n",
       "\n",
       "   Month_6  Month_7  Month_8  Month_9  Month_10  Month_11  Month_12  \\\n",
       "0        0        0        0        0         0         0         0   \n",
       "1        0        0        0        0         0         0         0   \n",
       "2        0        0        0        0         0         0         0   \n",
       "3        0        0        0        0         0         0         0   \n",
       "4        0        0        0        0         0         0         0   \n",
       "\n",
       "   Predictions  \n",
       "0   697.096155  \n",
       "1   536.153196  \n",
       "2   631.317405  \n",
       "3   536.153196  \n",
       "4   716.781904  \n",
       "\n",
       "[5 rows x 114 columns]"
      ]
     },
     "execution_count": 28,
     "metadata": {},
     "output_type": "execute_result"
    }
   ],
   "source": [
    "train.head()"
   ]
  },
  {
   "cell_type": "code",
   "execution_count": 29,
   "metadata": {},
   "outputs": [
    {
     "name": "stdout",
     "output_type": "stream",
     "text": [
      "766.0108960426068\n"
     ]
    }
   ],
   "source": [
    "from sklearn import metrics\n",
    "print(np.sqrt(metrics.mean_squared_error(Y_train,y_pred)))"
   ]
  },
  {
   "cell_type": "code",
   "execution_count": 30,
   "metadata": {},
   "outputs": [
    {
     "name": "stdout",
     "output_type": "stream",
     "text": [
      "462.0256663015775\n"
     ]
    }
   ],
   "source": [
    "print(metrics.mean_absolute_error(Y_train,y_pred))"
   ]
  },
  {
   "cell_type": "code",
   "execution_count": 31,
   "metadata": {},
   "outputs": [],
   "source": [
    "import numpy as np\n",
    "\n",
    "def mean_absolute_percentage_error(y_true, y_pred): \n",
    "    y_true, y_pred = np.array(y_true), np.array(y_pred)\n",
    "    return np.mean(np.abs((y_true - y_pred) / y_true)) * 100"
   ]
  },
  {
   "cell_type": "code",
   "execution_count": 32,
   "metadata": {},
   "outputs": [
    {
     "data": {
      "text/plain": [
       "58.89984411065943"
      ]
     },
     "execution_count": 32,
     "metadata": {},
     "output_type": "execute_result"
    }
   ],
   "source": [
    "mean_absolute_percentage_error(Y_train,y_pred)"
   ]
  },
  {
   "cell_type": "code",
   "execution_count": 33,
   "metadata": {},
   "outputs": [
    {
     "data": {
      "text/plain": [
       "122305     723.0\n",
       "122306     834.0\n",
       "122307    1213.0\n",
       "122308     972.0\n",
       "122309     853.0\n",
       "Name: Response Time, dtype: float64"
      ]
     },
     "execution_count": 33,
     "metadata": {},
     "output_type": "execute_result"
    }
   ],
   "source": [
    "Y_test.head()"
   ]
  },
  {
   "cell_type": "code",
   "execution_count": 34,
   "metadata": {},
   "outputs": [
    {
     "name": "stderr",
     "output_type": "stream",
     "text": [
      "C:\\Users\\Lauren\\Anaconda3\\lib\\site-packages\\ipykernel_launcher.py:3: SettingWithCopyWarning: \n",
      "A value is trying to be set on a copy of a slice from a DataFrame.\n",
      "Try using .loc[row_indexer,col_indexer] = value instead\n",
      "\n",
      "See the caveats in the documentation: http://pandas.pydata.org/pandas-docs/stable/indexing.html#indexing-view-versus-copy\n",
      "  This is separate from the ipykernel package so we can avoid doing imports until\n"
     ]
    }
   ],
   "source": [
    "#X_test =sm.add_constant( X_test )\n",
    "y_pred_2015 = model.predict(X_test)\n",
    "test['Predictions']=y_pred_2015\n"
   ]
  },
  {
   "cell_type": "code",
   "execution_count": 35,
   "metadata": {},
   "outputs": [],
   "source": [
    "linear_rmse=(np.sqrt(metrics.mean_squared_error(Y_test,y_pred_2015)))"
   ]
  },
  {
   "cell_type": "code",
   "execution_count": 36,
   "metadata": {},
   "outputs": [],
   "source": [
    "linear_mae=(metrics.mean_absolute_error(Y_test,y_pred_2015))"
   ]
  },
  {
   "cell_type": "code",
   "execution_count": 37,
   "metadata": {},
   "outputs": [],
   "source": [
    "linear_accuracy=100-(mean_absolute_percentage_error(Y_test,y_pred_2015))"
   ]
  },
  {
   "cell_type": "code",
   "execution_count": 38,
   "metadata": {},
   "outputs": [],
   "source": [
    "base_2015_rmse=(np.sqrt(metrics.mean_squared_error(Y_test,test['2015 Base Prediction'])))"
   ]
  },
  {
   "cell_type": "code",
   "execution_count": 39,
   "metadata": {},
   "outputs": [],
   "source": [
    "base_2015_mae=(metrics.mean_absolute_error(Y_test,test['2015 Base Prediction']))"
   ]
  },
  {
   "cell_type": "code",
   "execution_count": 40,
   "metadata": {},
   "outputs": [],
   "source": [
    "base_2015_accuracy=100-(mean_absolute_percentage_error(Y_test,test['2015 Base Prediction']))"
   ]
  },
  {
   "cell_type": "markdown",
   "metadata": {},
   "source": [
    "## Reducing the model"
   ]
  },
  {
   "cell_type": "code",
   "execution_count": 41,
   "metadata": {},
   "outputs": [
    {
     "data": {
      "text/plain": [
       "109"
      ]
     },
     "execution_count": 41,
     "metadata": {},
     "output_type": "execute_result"
    }
   ],
   "source": [
    "len(list(X_train.columns))"
   ]
  },
  {
   "cell_type": "code",
   "execution_count": 42,
   "metadata": {},
   "outputs": [],
   "source": [
    "Y_train=train['Response Time']\n",
    "X_train=train.drop(columns=['Response Time','Date','TOC','IA','Predictions'])\n",
    "Y_test=test['Response Time']\n",
    "X_test=test.drop(columns=['Response Time','Date','TOC','IA','Predictions','2015 Base Prediction'])"
   ]
  },
  {
   "cell_type": "code",
   "execution_count": 43,
   "metadata": {},
   "outputs": [
    {
     "name": "stderr",
     "output_type": "stream",
     "text": [
      "C:\\Users\\Lauren\\Anaconda3\\lib\\site-packages\\numpy\\core\\fromnumeric.py:2389: FutureWarning: Method .ptp is deprecated and will be removed in a future version. Use numpy.ptp instead.\n",
      "  return ptp(axis=axis, out=out, **kwargs)\n"
     ]
    },
    {
     "name": "stdout",
     "output_type": "stream",
     "text": [
      "['Precipitation', 'Wind Speed', 'IsWeekend', 'Station Area_Blanchardstown', 'Station Area_Dolphins Barn', 'Station Area_Donnybrook', 'Station Area_Dun Laoghaire', 'Station Area_Finglas', 'Station Area_Kilbarrack', 'Station Area_MH14', 'Station Area_North Strand', 'Station Area_Phibsborough', 'Station Area_Rathfarnham', 'Station Area_Skerries', 'Station Area_Swords', 'Station Area_Tallaght', 'Station Area_Tara St', 'Clinical Status_Alpha', 'Clinical Status_B', 'Clinical Status_Bravo', 'Clinical Status_C', 'Clinical Status_Charlie', 'Clinical Status_D', 'Clinical Status_Delta', 'Clinical Status_E', 'Clinical Status_Echo', 'Clinical Status_Non ProQa Class', 'Clinical Status_Not Classed', 'Clinical Status_O', 'Event_Christmas Break', 'Event_Easter', 'Event_Football Match', 'Event_Hurling Match', 'Event_Marathon', 'Event_Mid Term', 'Event_New Years Day', 'Event_Rugby Match', \"Event_St Patrick's Day\", \"Event_St Stephen's Day\", 'Event_none', 'Hour_4', 'Hour_5', 'Hour_6', 'Hour_7', 'Hour_8', 'Hour_10', 'Hour_11', 'Hour_12', 'Hour_13', 'Hour_14', 'Hour_15', 'Hour_16', 'Hour_17', 'Hour_18', 'Hour_19', 'Hour_20', 'Hour_21', 'Hour_22', 'Hour_23', 'Day_3', 'Day_4', 'Day_5', 'Day_7', 'Day_8', 'Day_10', 'Day_11', 'Day_12', 'Day_15', 'Day_18', 'Day_21', 'Day_25', 'Day_29', 'Day_30', 'Day_31', 'Month_2', 'Month_3', 'Month_4', 'Month_5', 'Month_6', 'Month_9', 'Month_11', 'Month_12']\n"
     ]
    }
   ],
   "source": [
    "cols = list(X_train.columns)\n",
    "pmax = 1\n",
    "while (len(cols)>0):\n",
    "    p= []\n",
    "    X_1 = X_train[cols]\n",
    "    X_1 = sm.add_constant(X_1)\n",
    "    model = sm.OLS(Y_train,X_1).fit()\n",
    "    p = pd.Series(model.pvalues.values[1:],index = cols)      \n",
    "    pmax = max(p)\n",
    "    feature_with_p_max = p.idxmax()\n",
    "    if(pmax>0.05):\n",
    "        cols.remove(feature_with_p_max)\n",
    "    else:\n",
    "        break\n",
    "selected_features_BE = cols\n",
    "print(selected_features_BE)"
   ]
  },
  {
   "cell_type": "code",
   "execution_count": 44,
   "metadata": {},
   "outputs": [
    {
     "data": {
      "text/plain": [
       "82"
      ]
     },
     "execution_count": 44,
     "metadata": {},
     "output_type": "execute_result"
    }
   ],
   "source": [
    "len(selected_features_BE)"
   ]
  },
  {
   "cell_type": "code",
   "execution_count": 45,
   "metadata": {},
   "outputs": [
    {
     "name": "stderr",
     "output_type": "stream",
     "text": [
      "C:\\Users\\Lauren\\Anaconda3\\lib\\site-packages\\ipykernel_launcher.py:6: SettingWithCopyWarning: \n",
      "A value is trying to be set on a copy of a slice from a DataFrame.\n",
      "Try using .loc[row_indexer,col_indexer] = value instead\n",
      "\n",
      "See the caveats in the documentation: http://pandas.pydata.org/pandas-docs/stable/indexing.html#indexing-view-versus-copy\n",
      "  \n"
     ]
    }
   ],
   "source": [
    "X_train_improved = X_train.loc[:, selected_features_BE]\n",
    "X_test_improved = X_test.loc[:, selected_features_BE]\n",
    "lr.fit(X_train_improved,Y_train)\n",
    "model = sm.OLS(Y_train, X_train_improved).fit()\n",
    "y_pred_improved = lr.predict(X_train_improved)\n",
    "train['Predictions_improved']=y_pred_improved"
   ]
  },
  {
   "cell_type": "code",
   "execution_count": 46,
   "metadata": {},
   "outputs": [
    {
     "name": "stdout",
     "output_type": "stream",
     "text": [
      "763.5480289497149\n"
     ]
    }
   ],
   "source": [
    "print(np.sqrt(metrics.mean_squared_error(Y_train,y_pred_improved)))"
   ]
  },
  {
   "cell_type": "code",
   "execution_count": 47,
   "metadata": {},
   "outputs": [
    {
     "name": "stdout",
     "output_type": "stream",
     "text": [
      "459.3125793327851\n"
     ]
    }
   ],
   "source": [
    "print(metrics.mean_absolute_error(Y_train,y_pred_improved))"
   ]
  },
  {
   "cell_type": "code",
   "execution_count": 48,
   "metadata": {},
   "outputs": [
    {
     "data": {
      "text/plain": [
       "58.43856195498546"
      ]
     },
     "execution_count": 48,
     "metadata": {},
     "output_type": "execute_result"
    }
   ],
   "source": [
    "mean_absolute_percentage_error(Y_train,y_pred_improved)"
   ]
  },
  {
   "cell_type": "code",
   "execution_count": 49,
   "metadata": {},
   "outputs": [],
   "source": [
    "y_pred_test_improved = model.predict(X_test_improved)"
   ]
  },
  {
   "cell_type": "code",
   "execution_count": 50,
   "metadata": {},
   "outputs": [],
   "source": [
    "reduced_rmse=(np.sqrt(metrics.mean_squared_error(Y_test,y_pred_test_improved)))"
   ]
  },
  {
   "cell_type": "code",
   "execution_count": 51,
   "metadata": {},
   "outputs": [],
   "source": [
    "reduced_mae=(metrics.mean_absolute_error(Y_test,y_pred_test_improved))"
   ]
  },
  {
   "cell_type": "code",
   "execution_count": 52,
   "metadata": {},
   "outputs": [],
   "source": [
    "reduced_accuracy=100-(mean_absolute_percentage_error(Y_test,y_pred_test_improved))"
   ]
  },
  {
   "cell_type": "markdown",
   "metadata": {},
   "source": [
    "### Random Forest Regression"
   ]
  },
  {
   "cell_type": "code",
   "execution_count": 53,
   "metadata": {},
   "outputs": [
    {
     "name": "stderr",
     "output_type": "stream",
     "text": [
      "C:\\Users\\Lauren\\Anaconda3\\lib\\site-packages\\ipykernel_launcher.py:6: SettingWithCopyWarning: \n",
      "A value is trying to be set on a copy of a slice from a DataFrame.\n",
      "Try using .loc[row_indexer,col_indexer] = value instead\n",
      "\n",
      "See the caveats in the documentation: http://pandas.pydata.org/pandas-docs/stable/indexing.html#indexing-view-versus-copy\n",
      "  \n"
     ]
    }
   ],
   "source": [
    "from sklearn.ensemble import RandomForestRegressor\n",
    "\n",
    "rf= RandomForestRegressor(n_estimators = 50, random_state = 42)\n",
    "rf.fit(X_train,Y_train)\n",
    "RF_predictions = rf.predict(X_train)\n",
    "train['RF Predictions']=RF_predictions"
   ]
  },
  {
   "cell_type": "code",
   "execution_count": 54,
   "metadata": {},
   "outputs": [
    {
     "name": "stdout",
     "output_type": "stream",
     "text": [
      "345.08366872708865\n"
     ]
    }
   ],
   "source": [
    "print(np.sqrt(metrics.mean_squared_error(Y_train,RF_predictions)))"
   ]
  },
  {
   "cell_type": "code",
   "execution_count": 55,
   "metadata": {},
   "outputs": [
    {
     "name": "stdout",
     "output_type": "stream",
     "text": [
      "200.09280500692034\n"
     ]
    }
   ],
   "source": [
    "print(metrics.mean_absolute_error(Y_train,RF_predictions))"
   ]
  },
  {
   "cell_type": "code",
   "execution_count": 56,
   "metadata": {},
   "outputs": [
    {
     "data": {
      "text/plain": [
       "24.906201026449903"
      ]
     },
     "execution_count": 56,
     "metadata": {},
     "output_type": "execute_result"
    }
   ],
   "source": [
    "mean_absolute_percentage_error(Y_train,RF_predictions)"
   ]
  },
  {
   "cell_type": "code",
   "execution_count": 57,
   "metadata": {},
   "outputs": [],
   "source": [
    "RF_predictions_test = rf.predict(X_test)"
   ]
  },
  {
   "cell_type": "code",
   "execution_count": 58,
   "metadata": {},
   "outputs": [
    {
     "name": "stderr",
     "output_type": "stream",
     "text": [
      "C:\\Users\\Lauren\\Anaconda3\\lib\\site-packages\\ipykernel_launcher.py:1: SettingWithCopyWarning: \n",
      "A value is trying to be set on a copy of a slice from a DataFrame.\n",
      "Try using .loc[row_indexer,col_indexer] = value instead\n",
      "\n",
      "See the caveats in the documentation: http://pandas.pydata.org/pandas-docs/stable/indexing.html#indexing-view-versus-copy\n",
      "  \"\"\"Entry point for launching an IPython kernel.\n"
     ]
    }
   ],
   "source": [
    "test['RF Predictions']=RF_predictions_test"
   ]
  },
  {
   "cell_type": "code",
   "execution_count": 59,
   "metadata": {},
   "outputs": [],
   "source": [
    "RFR_rmse=(np.sqrt(metrics.mean_squared_error(Y_test,RF_predictions_test)))"
   ]
  },
  {
   "cell_type": "code",
   "execution_count": 60,
   "metadata": {},
   "outputs": [],
   "source": [
    "RFR_mae=(metrics.mean_absolute_error(Y_test,RF_predictions_test))"
   ]
  },
  {
   "cell_type": "code",
   "execution_count": 61,
   "metadata": {},
   "outputs": [],
   "source": [
    "RFR_accuracy=100-(mean_absolute_percentage_error(Y_test,RF_predictions_test))"
   ]
  },
  {
   "cell_type": "code",
   "execution_count": 62,
   "metadata": {},
   "outputs": [
    {
     "name": "stdout",
     "output_type": "stream",
     "text": [
      "Variable: Wind Speed           Importance: 0.13\n",
      "Variable: Precipitation        Importance: 0.04\n",
      "Variable: Station Area_Dolphins Barn Importance: 0.02\n",
      "Variable: Station Area_Finglas Importance: 0.02\n",
      "Variable: Station Area_Kilbarrack Importance: 0.02\n",
      "Variable: Station Area_Phibsborough Importance: 0.02\n",
      "Variable: Station Area_Tallaght Importance: 0.02\n",
      "Variable: Clinical Status_Alpha Importance: 0.02\n",
      "Variable: Clinical Status_C    Importance: 0.02\n",
      "Variable: Clinical Status_Omega Importance: 0.02\n",
      "Variable: Station Area_Blanchardstown Importance: 0.01\n",
      "Variable: Station Area_Rathfarnham Importance: 0.01\n",
      "Variable: Station Area_Swords  Importance: 0.01\n",
      "Variable: Station Area_Tara St Importance: 0.01\n",
      "Variable: Clinical Status_B    Importance: 0.01\n",
      "Variable: Clinical Status_Bravo Importance: 0.01\n",
      "Variable: Clinical Status_Charlie Importance: 0.01\n",
      "Variable: Clinical Status_O    Importance: 0.01\n",
      "Variable: Day_3                Importance: 0.01\n",
      "Variable: Day_12               Importance: 0.01\n",
      "Variable: Day_18               Importance: 0.01\n",
      "Variable: Day_25               Importance: 0.01\n",
      "Variable: Month_2              Importance: 0.01\n",
      "Variable: Month_3              Importance: 0.01\n",
      "Variable: Month_4              Importance: 0.01\n",
      "Variable: Month_5              Importance: 0.01\n",
      "Variable: Month_6              Importance: 0.01\n",
      "Variable: Month_7              Importance: 0.01\n",
      "Variable: Month_9              Importance: 0.01\n",
      "Variable: Month_10             Importance: 0.01\n",
      "Variable: Month_11             Importance: 0.01\n",
      "Variable: Month_12             Importance: 0.01\n"
     ]
    }
   ],
   "source": [
    "# Get numerical feature importances\n",
    "importances = list(rf.feature_importances_)\n",
    "# List of tuples with variable and importance\n",
    "ambulance_importances = [(feature, round(importance, 2)) for feature, importance in zip(list(X_train.columns.values), importances)if importance >0.01]\n",
    "# Sort the feature importances by most important first\n",
    "ambulance_importances = sorted(ambulance_importances, key = lambda x: x[1], reverse = True)\n",
    "# Print out the feature and importances \n",
    "[print('Variable: {:20} Importance: {}'.format(*pair)) for pair in ambulance_importances];\n"
   ]
  },
  {
   "cell_type": "code",
   "execution_count": 64,
   "metadata": {},
   "outputs": [],
   "source": [
    "ambulance_importances_graph = pd.DataFrame(ambulance_importances, columns = ['Feature','Importance'])"
   ]
  },
  {
   "cell_type": "code",
   "execution_count": 66,
   "metadata": {},
   "outputs": [
    {
     "data": {
      "image/png": "[encoded data removed]",
      "text/plain": [
       "<Figure size 1008x504 with 1 Axes>"
      ]
     },
     "metadata": {
      "needs_background": "light"
     },
     "output_type": "display_data"
    }
   ],
   "source": [
    "import matplotlib.pyplot as plt\n",
    "import seaborn as sns\n",
    "fig, ax =plt.subplots()\n",
    "fig.set_size_inches(14,7)\n",
    "ax = sns.barplot(x=\"Feature\", y=\"Importance\", data= ambulance_importances_graph)\n",
    "ax.set(ylabel=\"Importance\",xlabel=\"Feature\", title=\"Summary of Feature Importance for Ambulance data \")\n",
    "#for putting the figures above the bars\n",
    "for i in ax.patches:\n",
    "    ax.text(i.get_x(), i.get_height(), \\\n",
    "            str(round((i.get_height()), 5)), fontsize=11, color='dimgrey',\n",
    "                rotation=0)\n",
    "plt.xticks(rotation=90)\n",
    "plt.show()"
   ]
  },
  {
   "cell_type": "markdown",
   "metadata": {},
   "source": [
    "## ARIMA model"
   ]
  },
  {
   "cell_type": "code",
   "execution_count": null,
   "metadata": {},
   "outputs": [],
   "source": [
    "DF_Arima=DF.copy()\n",
    "DF_Arima.index = DF.Date \n",
    "DF_Arima = DF_Arima.resample('D').mean()\n",
    "#train.Timestamp = pd.to_datetime(train.Datetime,format='%d-%m-%Y %H:%M') \n",
    "train_Arima=train.copy()\n",
    "test_Arima=test.copy()\n",
    "train_Arima.index = train.Date\n",
    "train_Arima = train_Arima.resample('D').mean() \n",
    "#test.Timestamp = pd.to_datetime(test.Datetime,format='%d-%m-%Y %H:%M') \n",
    "test_Arima.index = test.Date\n",
    "test_Arima = test_Arima.resample('D').mean()"
   ]
  },
  {
   "cell_type": "code",
   "execution_count": null,
   "metadata": {},
   "outputs": [],
   "source": [
    "import matplotlib.pyplot as plt \n",
    "train_Arima['Response Time'].plot(figsize=(15,8), title= 'Response Times', fontsize=14)\n",
    "test_Arima['Response Time'].plot(figsize=(15,8), title= 'Response Times', fontsize=14)\n",
    "plt.show()"
   ]
  },
  {
   "cell_type": "code",
   "execution_count": null,
   "metadata": {},
   "outputs": [],
   "source": [
    "arima_pred_test = test_Arima.copy()\n",
    "arima_pred_train= train_Arima.copy()\n",
    "fit1 = sm.tsa.statespace.SARIMAX(train_Arima['Response Time'], order=(1, 0, 1),seasonal_order=(0,1,1,7)).fit()\n",
    "arima_pred_train['SARIMA'] = fit1.predict(start=\"2013-01-01\", end=\"2014-12-31\")\n",
    "arima_pred_test['SARIMA'] = fit1.predict(start=\"2015-01-01\", end=\"2015-12-31\", dynamic=True)\n",
    "arima_pred_test=arima_pred_test.fillna(0)\n",
    "arima_pred_train=arima_pred_train.fillna(0)\n",
    "plt.figure(figsize=(16,8))\n",
    "plt.plot( train_Arima['Response Time'], label='Train')\n",
    "plt.plot(test_Arima['Response Time'], label='Test')\n",
    "plt.plot(arima_pred_test['SARIMA'], label='SARIMA')\n",
    "plt.plot(arima_pred_train['SARIMA'], label='train_pred')\n",
    "plt.legend(loc='best')\n",
    "plt.show()"
   ]
  },
  {
   "cell_type": "code",
   "execution_count": null,
   "metadata": {},
   "outputs": [],
   "source": [
    "arima_pred_test.head()\n",
    "arima_Result_train=arima_pred_train[['SARIMA']]\n",
    "arima_Result= arima_pred_test[['SARIMA']]\n",
    "arima_Result_train.reset_index(level=0, inplace=True)\n",
    "arima_Result.reset_index(level=0, inplace=True)\n",
    "arima_Result.head()"
   ]
  },
  {
   "cell_type": "code",
   "execution_count": null,
   "metadata": {},
   "outputs": [],
   "source": [
    "test=pd.merge(test,arima_Result, on='Date')\n",
    "train=pd.merge(train,arima_Result_train, on='Date')\n",
    "test.head()"
   ]
  },
  {
   "cell_type": "code",
   "execution_count": null,
   "metadata": {},
   "outputs": [],
   "source": [
    "arima_rmse=(np.sqrt(metrics.mean_squared_error(test['Response Time'],test['SARIMA'])))\n",
    "print(arima_rmse)"
   ]
  },
  {
   "cell_type": "code",
   "execution_count": null,
   "metadata": {},
   "outputs": [],
   "source": [
    "arima_mae=(metrics.mean_absolute_error(test['Response Time'],test['SARIMA']))\n",
    "print(arima_mae)"
   ]
  },
  {
   "cell_type": "code",
   "execution_count": null,
   "metadata": {},
   "outputs": [],
   "source": [
    "arima_accuracy=100-(mean_absolute_percentage_error(test['Response Time'],test['SARIMA']))\n",
    "print(arima_accuracy)"
   ]
  },
  {
   "cell_type": "markdown",
   "metadata": {},
   "source": [
    "## Incorporation of ARIMA results into linear model"
   ]
  },
  {
   "cell_type": "code",
   "execution_count": null,
   "metadata": {},
   "outputs": [],
   "source": [
    "from sklearn.linear_model import LinearRegression\n",
    "lr= LinearRegression()\n",
    "Y_train=train['Response Time']\n",
    "X_train=train.drop(columns=['Response Time','Date','TOC','IA','Predictions','Predictions_improved','RF Predictions'])\n",
    "Y_test=test['Response Time']\n",
    "X_test=test.drop(columns=['Response Time','Date','TOC','IA','2015 Base Prediction','Predictions','RF Predictions'])"
   ]
  },
  {
   "cell_type": "code",
   "execution_count": null,
   "metadata": {},
   "outputs": [],
   "source": [
    "lr.fit(X_train,Y_train)"
   ]
  },
  {
   "cell_type": "code",
   "execution_count": null,
   "metadata": {},
   "outputs": [],
   "source": [
    "import statsmodels.api as sm\n",
    "\n",
    "model = sm.OLS(Y_train, X_train).fit()\n",
    "y_pred = model.predict(X_train)\n",
    "y_pred_2015=model.predict(X_test)\n",
    "print_model = model.summary()\n",
    "print(print_model)"
   ]
  },
  {
   "cell_type": "code",
   "execution_count": null,
   "metadata": {},
   "outputs": [],
   "source": [
    "train['LA_Predictions']=y_pred"
   ]
  },
  {
   "cell_type": "code",
   "execution_count": null,
   "metadata": {},
   "outputs": [],
   "source": [
    "print(np.sqrt(metrics.mean_squared_error(Y_train,y_pred)))"
   ]
  },
  {
   "cell_type": "code",
   "execution_count": null,
   "metadata": {},
   "outputs": [],
   "source": [
    "print(metrics.mean_absolute_error(Y_train,y_pred))"
   ]
  },
  {
   "cell_type": "code",
   "execution_count": null,
   "metadata": {},
   "outputs": [],
   "source": [
    "mean_absolute_percentage_error(Y_train,y_pred)"
   ]
  },
  {
   "cell_type": "code",
   "execution_count": null,
   "metadata": {},
   "outputs": [],
   "source": [
    "LA_rmse=(np.sqrt(metrics.mean_squared_error(Y_test,y_pred_2015)))\n",
    "print(LA_rmse)"
   ]
  },
  {
   "cell_type": "code",
   "execution_count": null,
   "metadata": {},
   "outputs": [],
   "source": [
    "LA_mae=(metrics.mean_absolute_error(Y_test,y_pred_2015))\n",
    "print(LA_mae)"
   ]
  },
  {
   "cell_type": "code",
   "execution_count": null,
   "metadata": {},
   "outputs": [],
   "source": [
    "LA_accuracy=100-mean_absolute_percentage_error(Y_test,y_pred_2015)\n",
    "print(LA_accuracy)"
   ]
  },
  {
   "cell_type": "markdown",
   "metadata": {},
   "source": [
    "## Plotting graphs of results"
   ]
  },
  {
   "cell_type": "code",
   "execution_count": null,
   "metadata": {},
   "outputs": [],
   "source": [
    "rmse_results = [('baseline', base_2015_rmse),\n",
    "                ('Linear Regression',linear_rmse),\n",
    "                ('Reduced Linear Model',reduced_rmse),\n",
    "                ('Random Forest',RFR_rmse),\n",
    "                ('Linear_Arima',LA_rmse)]"
   ]
  },
  {
   "cell_type": "code",
   "execution_count": null,
   "metadata": {},
   "outputs": [],
   "source": [
    "final_rmse = pd.DataFrame(rmse_results, columns = ['Method','RMSE'])"
   ]
  },
  {
   "cell_type": "code",
   "execution_count": null,
   "metadata": {},
   "outputs": [],
   "source": [
    "import seaborn as sns\n",
    "fig, ax =plt.subplots()\n",
    "fig.set_size_inches(14,7)\n",
    "ax = sns.barplot(x=\"Method\", y=\"RMSE\", data= final_rmse)\n",
    "ax.set(ylabel=\"RMSE\",xlabel=\"Method\", title=\"Summary of RMSE for all methods \")\n",
    "#for putting the figures above the bars\n",
    "for i in ax.patches:\n",
    "    ax.text(i.get_x(), i.get_height(), \\\n",
    "            str(round((i.get_height()), 5)), fontsize=11, color='dimgrey',\n",
    "                rotation=0)\n",
    "plt.xticks(rotation=40)"
   ]
  },
  {
   "cell_type": "code",
   "execution_count": null,
   "metadata": {},
   "outputs": [],
   "source": [
    "mae_results = [('baseline',base_2015_mae),\n",
    "                ('Linear Regression',linear_mae),\n",
    "                ('Reduced Linear Model',reduced_mae),\n",
    "                ('Random Forest',RFR_mae),\n",
    "                ('Linear_Arima',LA_mae)]"
   ]
  },
  {
   "cell_type": "code",
   "execution_count": null,
   "metadata": {},
   "outputs": [],
   "source": [
    "final_mae = pd.DataFrame(mae_results, columns = ['Method','MAE'])"
   ]
  },
  {
   "cell_type": "code",
   "execution_count": null,
   "metadata": {},
   "outputs": [],
   "source": [
    "import seaborn as sns\n",
    "fig, ax =plt.subplots()\n",
    "fig.set_size_inches(14,7)\n",
    "ax = sns.barplot(x=\"Method\", y=\"MAE\", data= final_mae)\n",
    "ax.set(ylabel=\"MAE\",xlabel=\"Method\", title=\"Summary of MAE for all methods \")\n",
    "#for putting the figures above the bars\n",
    "for i in ax.patches:\n",
    "    ax.text(i.get_x(), i.get_height(), \\\n",
    "            str(round((i.get_height()), 5)), fontsize=11, color='dimgrey',\n",
    "                rotation=0)\n",
    "plt.xticks(rotation=40)"
   ]
  },
  {
   "cell_type": "code",
   "execution_count": null,
   "metadata": {},
   "outputs": [],
   "source": [
    "base_2015_var=base_2015_rmse-base_2015_mae\n",
    "linear_var=linear_rmse-linear_mae\n",
    "reduced_linear_var=reduced_rmse-reduced_mae\n",
    "RFR_var=RFR_rmse-RFR_mae\n",
    "LA_var=LA_rmse-LA_mae"
   ]
  },
  {
   "cell_type": "code",
   "execution_count": null,
   "metadata": {},
   "outputs": [],
   "source": [
    "var_results = [('2015 baseline',base_2015_var),\n",
    "                ('Linear Regression',linear_var),\n",
    "                ('Reduced Linear Model',reduced_linear_var),\n",
    "                ('Random Forest',RFR_var),\n",
    "                ('Linear_Arima',LA_var)]"
   ]
  },
  {
   "cell_type": "code",
   "execution_count": null,
   "metadata": {},
   "outputs": [],
   "source": [
    "final_var = pd.DataFrame(var_results, columns = ['Method','variance'])"
   ]
  },
  {
   "cell_type": "code",
   "execution_count": null,
   "metadata": {},
   "outputs": [],
   "source": [
    "fig, ax =plt.subplots()\n",
    "fig.set_size_inches(14,7)\n",
    "ax = sns.barplot(x=\"Method\", y=\"variance\", data= final_var)\n",
    "ax.set(ylabel=\"accuracy\",xlabel=\"Method\", title=\"Summary of variance of errors all methods \")\n",
    "#for putting the figures above the bars\n",
    "for i in ax.patches:\n",
    "    ax.text(i.get_x(), i.get_height(), \\\n",
    "            str(round((i.get_height()), 5)), fontsize=11, color='dimgrey',\n",
    "                rotation=0)\n",
    "plt.xticks(rotation=40)"
   ]
  },
  {
   "cell_type": "code",
   "execution_count": null,
   "metadata": {},
   "outputs": [],
   "source": [
    "accuracy_results = [('baseline',base_2015_accuracy),\n",
    "                ('Linear Regression',linear_accuracy),\n",
    "                ('Reduced Linear Model',reduced_accuracy),\n",
    "                ('Random Forest',RFR_accuracy),\n",
    "                ('Linear_Arima',LA_accuracy)]"
   ]
  },
  {
   "cell_type": "code",
   "execution_count": null,
   "metadata": {},
   "outputs": [],
   "source": [
    "final_accuracy = pd.DataFrame(accuracy_results, columns = ['Method','accuracy'])"
   ]
  },
  {
   "cell_type": "code",
   "execution_count": null,
   "metadata": {},
   "outputs": [],
   "source": [
    "fig, ax =plt.subplots()\n",
    "fig.set_size_inches(14,7)\n",
    "ax = sns.barplot(x=\"Method\", y=\"accuracy\", data= final_accuracy)\n",
    "ax.set(ylabel=\"accuracy\",xlabel=\"Method\", title=\"Summary of accuracy for all methods \")\n",
    "#for putting the figures above the bars\n",
    "for i in ax.patches:\n",
    "    ax.text(i.get_x(), i.get_height(), \\\n",
    "            str(round((i.get_height()), 5)), fontsize=11, color='dimgrey',\n",
    "                rotation=0)\n",
    "plt.xticks(rotation=40)"
   ]
  },
  {
   "cell_type": "code",
   "execution_count": null,
   "metadata": {},
   "outputs": [],
   "source": []
  }
 ],
 "metadata": {
  "kernelspec": {
   "display_name": "Python 3",
   "language": "python",
   "name": "python3"
  },
  "language_info": {
   "codemirror_mode": {
    "name": "ipython",
    "version": 3
   },
   "file_extension": ".py",
   "mimetype": "text/x-python",
   "name": "python",
   "nbconvert_exporter": "python",
   "pygments_lexer": "ipython3",
   "version": "3.7.3"
  }
 },
 "nbformat": 4,
 "nbformat_minor": 2
}
